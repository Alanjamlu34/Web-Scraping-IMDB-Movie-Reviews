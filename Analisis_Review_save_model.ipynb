{
  "cells": [
    {
      "cell_type": "markdown",
      "metadata": {
        "id": "view-in-github",
        "colab_type": "text"
      },
      "source": [
        "<a href=\"https://colab.research.google.com/github/Alanjamlu34/Web-Scraping-IMDB-Movie-Reviews/blob/main/Analisis_Review_save_model.ipynb\" target=\"_parent\"><img src=\"https://colab.research.google.com/assets/colab-badge.svg\" alt=\"Open In Colab\"/></a>"
      ]
    },
    {
      "cell_type": "markdown",
      "source": [
        "# Import Library"
      ],
      "metadata": {
        "id": "--i6yXmcFyHd"
      }
    },
    {
      "cell_type": "code",
      "source": [
        "import numpy as np\n",
        "import pandas as pd\n",
        "from sklearn.model_selection import train_test_split\n",
        "from tensorflow.keras.preprocessing.text import Tokenizer\n",
        "from tensorflow.keras.preprocessing.sequence import pad_sequences\n",
        "import tensorflow as tf"
      ],
      "metadata": {
        "id": "6-67NDAgF0HK"
      },
      "execution_count": 1,
      "outputs": []
    },
    {
      "cell_type": "markdown",
      "metadata": {
        "id": "0Pe7K3vcE_jR"
      },
      "source": [
        "# Read Dataset"
      ]
    },
    {
      "cell_type": "code",
      "source": [
        "from google.colab import drive\n",
        "drive.mount('/content/gdrive')"
      ],
      "metadata": {
        "colab": {
          "base_uri": "https://localhost:8080/"
        },
        "id": "9o-qLRq4_m5j",
        "outputId": "716ba947-f40f-462c-aa2d-96454a717ba6"
      },
      "execution_count": 2,
      "outputs": [
        {
          "output_type": "stream",
          "name": "stdout",
          "text": [
            "Mounted at /content/gdrive\n"
          ]
        }
      ]
    },
    {
      "cell_type": "code",
      "source": [
        "# Load the data from the specified path\n",
        "data_path = \"/content/gdrive/MyDrive/Dicoding/data.csv\"\n",
        "df = pd.read_csv(data_path)\n",
        "df.head()"
      ],
      "metadata": {
        "id": "7Bd1DbyPOkmi",
        "colab": {
          "base_uri": "https://localhost:8080/",
          "height": 0
        },
        "outputId": "04920260-82a5-4097-e390-02dd51cb19e3"
      },
      "execution_count": 3,
      "outputs": [
        {
          "output_type": "execute_result",
          "data": {
            "text/plain": [
              "           Date                                           overview  Stars  \\\n",
              "0   25 May 2005                     Life's Lessons in one Movie...   10.0   \n",
              "1  8 April 2002           A beautiful fable for now and the future   10.0   \n",
              "2  10 June 2002  Let's see the world through the eyes of Forres...   10.0   \n",
              "3   14 May 2007  In my opinion, no film has touched me more tha...   10.0   \n",
              "4  20 June 2005                           The zen of Forrest Gump.   10.0   \n",
              "\n",
              "                                              Review  \n",
              "0  When I first saw this movie I didn't appreciat...  \n",
              "1  I believe everyone has a right to their opinio...  \n",
              "2  \"I've made about 20 films and 5 of them are pr...  \n",
              "3  Quite simply, the greatest film ever made.Humo...  \n",
              "4  This is a powerful yet charming movie; fun for...  "
            ],
            "text/html": [
              "\n",
              "  <div id=\"df-b52b80ad-da35-4ab2-9ede-243fdc0858cd\" class=\"colab-df-container\">\n",
              "    <div>\n",
              "<style scoped>\n",
              "    .dataframe tbody tr th:only-of-type {\n",
              "        vertical-align: middle;\n",
              "    }\n",
              "\n",
              "    .dataframe tbody tr th {\n",
              "        vertical-align: top;\n",
              "    }\n",
              "\n",
              "    .dataframe thead th {\n",
              "        text-align: right;\n",
              "    }\n",
              "</style>\n",
              "<table border=\"1\" class=\"dataframe\">\n",
              "  <thead>\n",
              "    <tr style=\"text-align: right;\">\n",
              "      <th></th>\n",
              "      <th>Date</th>\n",
              "      <th>overview</th>\n",
              "      <th>Stars</th>\n",
              "      <th>Review</th>\n",
              "    </tr>\n",
              "  </thead>\n",
              "  <tbody>\n",
              "    <tr>\n",
              "      <th>0</th>\n",
              "      <td>25 May 2005</td>\n",
              "      <td>Life's Lessons in one Movie...</td>\n",
              "      <td>10.0</td>\n",
              "      <td>When I first saw this movie I didn't appreciat...</td>\n",
              "    </tr>\n",
              "    <tr>\n",
              "      <th>1</th>\n",
              "      <td>8 April 2002</td>\n",
              "      <td>A beautiful fable for now and the future</td>\n",
              "      <td>10.0</td>\n",
              "      <td>I believe everyone has a right to their opinio...</td>\n",
              "    </tr>\n",
              "    <tr>\n",
              "      <th>2</th>\n",
              "      <td>10 June 2002</td>\n",
              "      <td>Let's see the world through the eyes of Forres...</td>\n",
              "      <td>10.0</td>\n",
              "      <td>\"I've made about 20 films and 5 of them are pr...</td>\n",
              "    </tr>\n",
              "    <tr>\n",
              "      <th>3</th>\n",
              "      <td>14 May 2007</td>\n",
              "      <td>In my opinion, no film has touched me more tha...</td>\n",
              "      <td>10.0</td>\n",
              "      <td>Quite simply, the greatest film ever made.Humo...</td>\n",
              "    </tr>\n",
              "    <tr>\n",
              "      <th>4</th>\n",
              "      <td>20 June 2005</td>\n",
              "      <td>The zen of Forrest Gump.</td>\n",
              "      <td>10.0</td>\n",
              "      <td>This is a powerful yet charming movie; fun for...</td>\n",
              "    </tr>\n",
              "  </tbody>\n",
              "</table>\n",
              "</div>\n",
              "    <div class=\"colab-df-buttons\">\n",
              "\n",
              "  <div class=\"colab-df-container\">\n",
              "    <button class=\"colab-df-convert\" onclick=\"convertToInteractive('df-b52b80ad-da35-4ab2-9ede-243fdc0858cd')\"\n",
              "            title=\"Convert this dataframe to an interactive table.\"\n",
              "            style=\"display:none;\">\n",
              "\n",
              "  <svg xmlns=\"http://www.w3.org/2000/svg\" height=\"24px\" viewBox=\"0 -960 960 960\">\n",
              "    <path d=\"M120-120v-720h720v720H120Zm60-500h600v-160H180v160Zm220 220h160v-160H400v160Zm0 220h160v-160H400v160ZM180-400h160v-160H180v160Zm440 0h160v-160H620v160ZM180-180h160v-160H180v160Zm440 0h160v-160H620v160Z\"/>\n",
              "  </svg>\n",
              "    </button>\n",
              "\n",
              "  <style>\n",
              "    .colab-df-container {\n",
              "      display:flex;\n",
              "      gap: 12px;\n",
              "    }\n",
              "\n",
              "    .colab-df-convert {\n",
              "      background-color: #E8F0FE;\n",
              "      border: none;\n",
              "      border-radius: 50%;\n",
              "      cursor: pointer;\n",
              "      display: none;\n",
              "      fill: #1967D2;\n",
              "      height: 32px;\n",
              "      padding: 0 0 0 0;\n",
              "      width: 32px;\n",
              "    }\n",
              "\n",
              "    .colab-df-convert:hover {\n",
              "      background-color: #E2EBFA;\n",
              "      box-shadow: 0px 1px 2px rgba(60, 64, 67, 0.3), 0px 1px 3px 1px rgba(60, 64, 67, 0.15);\n",
              "      fill: #174EA6;\n",
              "    }\n",
              "\n",
              "    .colab-df-buttons div {\n",
              "      margin-bottom: 4px;\n",
              "    }\n",
              "\n",
              "    [theme=dark] .colab-df-convert {\n",
              "      background-color: #3B4455;\n",
              "      fill: #D2E3FC;\n",
              "    }\n",
              "\n",
              "    [theme=dark] .colab-df-convert:hover {\n",
              "      background-color: #434B5C;\n",
              "      box-shadow: 0px 1px 3px 1px rgba(0, 0, 0, 0.15);\n",
              "      filter: drop-shadow(0px 1px 2px rgba(0, 0, 0, 0.3));\n",
              "      fill: #FFFFFF;\n",
              "    }\n",
              "  </style>\n",
              "\n",
              "    <script>\n",
              "      const buttonEl =\n",
              "        document.querySelector('#df-b52b80ad-da35-4ab2-9ede-243fdc0858cd button.colab-df-convert');\n",
              "      buttonEl.style.display =\n",
              "        google.colab.kernel.accessAllowed ? 'block' : 'none';\n",
              "\n",
              "      async function convertToInteractive(key) {\n",
              "        const element = document.querySelector('#df-b52b80ad-da35-4ab2-9ede-243fdc0858cd');\n",
              "        const dataTable =\n",
              "          await google.colab.kernel.invokeFunction('convertToInteractive',\n",
              "                                                    [key], {});\n",
              "        if (!dataTable) return;\n",
              "\n",
              "        const docLinkHtml = 'Like what you see? Visit the ' +\n",
              "          '<a target=\"_blank\" href=https://colab.research.google.com/notebooks/data_table.ipynb>data table notebook</a>'\n",
              "          + ' to learn more about interactive tables.';\n",
              "        element.innerHTML = '';\n",
              "        dataTable['output_type'] = 'display_data';\n",
              "        await google.colab.output.renderOutput(dataTable, element);\n",
              "        const docLink = document.createElement('div');\n",
              "        docLink.innerHTML = docLinkHtml;\n",
              "        element.appendChild(docLink);\n",
              "      }\n",
              "    </script>\n",
              "  </div>\n",
              "\n",
              "\n",
              "<div id=\"df-62c950ff-50d0-4d39-a57e-9c00b7ecc134\">\n",
              "  <button class=\"colab-df-quickchart\" onclick=\"quickchart('df-62c950ff-50d0-4d39-a57e-9c00b7ecc134')\"\n",
              "            title=\"Suggest charts\"\n",
              "            style=\"display:none;\">\n",
              "\n",
              "<svg xmlns=\"http://www.w3.org/2000/svg\" height=\"24px\"viewBox=\"0 0 24 24\"\n",
              "     width=\"24px\">\n",
              "    <g>\n",
              "        <path d=\"M19 3H5c-1.1 0-2 .9-2 2v14c0 1.1.9 2 2 2h14c1.1 0 2-.9 2-2V5c0-1.1-.9-2-2-2zM9 17H7v-7h2v7zm4 0h-2V7h2v10zm4 0h-2v-4h2v4z\"/>\n",
              "    </g>\n",
              "</svg>\n",
              "  </button>\n",
              "\n",
              "<style>\n",
              "  .colab-df-quickchart {\n",
              "      --bg-color: #E8F0FE;\n",
              "      --fill-color: #1967D2;\n",
              "      --hover-bg-color: #E2EBFA;\n",
              "      --hover-fill-color: #174EA6;\n",
              "      --disabled-fill-color: #AAA;\n",
              "      --disabled-bg-color: #DDD;\n",
              "  }\n",
              "\n",
              "  [theme=dark] .colab-df-quickchart {\n",
              "      --bg-color: #3B4455;\n",
              "      --fill-color: #D2E3FC;\n",
              "      --hover-bg-color: #434B5C;\n",
              "      --hover-fill-color: #FFFFFF;\n",
              "      --disabled-bg-color: #3B4455;\n",
              "      --disabled-fill-color: #666;\n",
              "  }\n",
              "\n",
              "  .colab-df-quickchart {\n",
              "    background-color: var(--bg-color);\n",
              "    border: none;\n",
              "    border-radius: 50%;\n",
              "    cursor: pointer;\n",
              "    display: none;\n",
              "    fill: var(--fill-color);\n",
              "    height: 32px;\n",
              "    padding: 0;\n",
              "    width: 32px;\n",
              "  }\n",
              "\n",
              "  .colab-df-quickchart:hover {\n",
              "    background-color: var(--hover-bg-color);\n",
              "    box-shadow: 0 1px 2px rgba(60, 64, 67, 0.3), 0 1px 3px 1px rgba(60, 64, 67, 0.15);\n",
              "    fill: var(--button-hover-fill-color);\n",
              "  }\n",
              "\n",
              "  .colab-df-quickchart-complete:disabled,\n",
              "  .colab-df-quickchart-complete:disabled:hover {\n",
              "    background-color: var(--disabled-bg-color);\n",
              "    fill: var(--disabled-fill-color);\n",
              "    box-shadow: none;\n",
              "  }\n",
              "\n",
              "  .colab-df-spinner {\n",
              "    border: 2px solid var(--fill-color);\n",
              "    border-color: transparent;\n",
              "    border-bottom-color: var(--fill-color);\n",
              "    animation:\n",
              "      spin 1s steps(1) infinite;\n",
              "  }\n",
              "\n",
              "  @keyframes spin {\n",
              "    0% {\n",
              "      border-color: transparent;\n",
              "      border-bottom-color: var(--fill-color);\n",
              "      border-left-color: var(--fill-color);\n",
              "    }\n",
              "    20% {\n",
              "      border-color: transparent;\n",
              "      border-left-color: var(--fill-color);\n",
              "      border-top-color: var(--fill-color);\n",
              "    }\n",
              "    30% {\n",
              "      border-color: transparent;\n",
              "      border-left-color: var(--fill-color);\n",
              "      border-top-color: var(--fill-color);\n",
              "      border-right-color: var(--fill-color);\n",
              "    }\n",
              "    40% {\n",
              "      border-color: transparent;\n",
              "      border-right-color: var(--fill-color);\n",
              "      border-top-color: var(--fill-color);\n",
              "    }\n",
              "    60% {\n",
              "      border-color: transparent;\n",
              "      border-right-color: var(--fill-color);\n",
              "    }\n",
              "    80% {\n",
              "      border-color: transparent;\n",
              "      border-right-color: var(--fill-color);\n",
              "      border-bottom-color: var(--fill-color);\n",
              "    }\n",
              "    90% {\n",
              "      border-color: transparent;\n",
              "      border-bottom-color: var(--fill-color);\n",
              "    }\n",
              "  }\n",
              "</style>\n",
              "\n",
              "  <script>\n",
              "    async function quickchart(key) {\n",
              "      const quickchartButtonEl =\n",
              "        document.querySelector('#' + key + ' button');\n",
              "      quickchartButtonEl.disabled = true;  // To prevent multiple clicks.\n",
              "      quickchartButtonEl.classList.add('colab-df-spinner');\n",
              "      try {\n",
              "        const charts = await google.colab.kernel.invokeFunction(\n",
              "            'suggestCharts', [key], {});\n",
              "      } catch (error) {\n",
              "        console.error('Error during call to suggestCharts:', error);\n",
              "      }\n",
              "      quickchartButtonEl.classList.remove('colab-df-spinner');\n",
              "      quickchartButtonEl.classList.add('colab-df-quickchart-complete');\n",
              "    }\n",
              "    (() => {\n",
              "      let quickchartButtonEl =\n",
              "        document.querySelector('#df-62c950ff-50d0-4d39-a57e-9c00b7ecc134 button');\n",
              "      quickchartButtonEl.style.display =\n",
              "        google.colab.kernel.accessAllowed ? 'block' : 'none';\n",
              "    })();\n",
              "  </script>\n",
              "</div>\n",
              "    </div>\n",
              "  </div>\n"
            ],
            "application/vnd.google.colaboratory.intrinsic+json": {
              "type": "dataframe",
              "variable_name": "df",
              "summary": "{\n  \"name\": \"df\",\n  \"rows\": 2970,\n  \"fields\": [\n    {\n      \"column\": \"Date\",\n      \"properties\": {\n        \"dtype\": \"object\",\n        \"num_unique_values\": 2252,\n        \"samples\": [\n          \"5 January 2008\",\n          \"13 July 2015\",\n          \"22 April 2018\"\n        ],\n        \"semantic_type\": \"\",\n        \"description\": \"\"\n      }\n    },\n    {\n      \"column\": \"overview\",\n      \"properties\": {\n        \"dtype\": \"string\",\n        \"num_unique_values\": 2614,\n        \"samples\": [\n          \"Verygood Movie.\",\n          \"First Watch a 10\",\n          \"Heart Touching Masterpiece\"\n        ],\n        \"semantic_type\": \"\",\n        \"description\": \"\"\n      }\n    },\n    {\n      \"column\": \"Stars\",\n      \"properties\": {\n        \"dtype\": \"number\",\n        \"std\": 2.0363777795755493,\n        \"min\": 1.0,\n        \"max\": 10.0,\n        \"num_unique_values\": 10,\n        \"samples\": [\n          2.0,\n          9.0,\n          8.0\n        ],\n        \"semantic_type\": \"\",\n        \"description\": \"\"\n      }\n    },\n    {\n      \"column\": \"Review\",\n      \"properties\": {\n        \"dtype\": \"string\",\n        \"num_unique_values\": 2962,\n        \"samples\": [\n          \"Winston Groom's Forrest Gump was a novel that was complicated, but (Oscar winning) director Robert Zemeckis brings events together with visual effects that boggle even George Lucas.And leading the film in this odyssey of American life is Tom Hanks playing Gump (he won his second Oscar for his portrayal) in a film that shows one man who goes through many events in history to find the one he loves. Well done, well acted, and well directed.\",\n          \"\\\"Mama says 'stupid is as stupid does'\\\". That was a quote from one of the best movies of all time. \\\"Forrest Gump\\\" is the story of a man from Alabama with a low I.Q., whose personality is different from others, but ends up achieving many goals including football, Vietnam, shrimping, table tennis, etc. The story has words spoken by the beautiful writing of Eric Roth, and it was magically directed by Robert Zemeckis. The amazing visual effects were added to plant Tom Hanks in historical landmarks, which makes that kind of movie, a magical movie. The film had a brilliant cast involving Gary Sinise, Robin Wright, Sally Field, and the incredible Tom Hanks as the witted Forrest, himself. The movie was an incredible look of being different while being special, and never knowing what to do in life cause it just happens to you without knowing. That's why I respect this excellent film. This is one of my all-time favorite movies for a reason. It had a terrific cast, it had heart, it meant something, it was entertaining, and it was also quite incredible. A movie like this deserves to be recognized as a excellent movie. Next to \\\"Titanic\\\", \\\"Forrest Gump\\\" is my second favorite movie of all time. I enjoyed the hell out of everything, and my heart always feels special every time I watched. This is an amazing motion picture, no doubt about it. It's just a shame that nobody can respect the movie's Best Picture Oscar win objectively. Like my Mama always says, \\\"life is like a box of chocolates, you never know what you're going to get\\\". You know what, Mama was right about that! \\\"Forrest Gump\\\", in my review, \\\"A fantastic journey seen through the human eye\\\".\",\n          \"I really like this movie because it teaches you how not to judge people. Like when forrest's legs were crooked and when he ran away from the bullies they came off and he could run super fast. That shows that just about anyone can do anything if they put their mind to it.\"\n        ],\n        \"semantic_type\": \"\",\n        \"description\": \"\"\n      }\n    }\n  ]\n}"
            }
          },
          "metadata": {},
          "execution_count": 3
        }
      ]
    },
    {
      "cell_type": "markdown",
      "source": [
        "# Preprocessing Data"
      ],
      "metadata": {
        "id": "T0BtnYYDQtqR"
      }
    },
    {
      "cell_type": "markdown",
      "source": [
        "## Maping data"
      ],
      "metadata": {
        "id": "ToiV3B3bGCx8"
      }
    },
    {
      "cell_type": "code",
      "source": [
        "# Mapping dictionary for Stars column\n",
        "stars_mapping = {\n",
        "    0: 'buruk', 1: 'buruk', 2: 'buruk', 3: 'buruk',\n",
        "    4: 'netral', 5: 'netral', 6: 'netral', 7: 'netral',\n",
        "    8: 'bagus', 9: 'bagus', 10: 'bagus'\n",
        "}\n",
        "\n",
        "# Map the Stars column to categorical labels\n",
        "df['Label'] = df['Stars'].map(stars_mapping)"
      ],
      "metadata": {
        "id": "12zDa91GGEw1"
      },
      "execution_count": 4,
      "outputs": []
    },
    {
      "cell_type": "markdown",
      "source": [
        "## Split Dataset"
      ],
      "metadata": {
        "id": "bJ2KlG2FGFyY"
      }
    },
    {
      "cell_type": "code",
      "source": [
        "\n",
        "# Split the data into training and testing sets\n",
        "train_df, test_df = train_test_split(df, test_size=0.2, random_state=42)\n",
        "\n",
        "# Initialize sentences and labels lists for training\n",
        "training_sentences = train_df['Review'].tolist()\n",
        "training_labels = train_df['Label'].tolist()\n",
        "\n",
        "# Initialize sentences and labels lists for testing\n",
        "testing_sentences = test_df['Review'].tolist()\n",
        "testing_labels = test_df['Label'].tolist()\n",
        "\n",
        "# Convert labels lists to numpy arrays\n",
        "label_mapping = {'buruk': 0, 'netral': 1, 'bagus': 2}\n",
        "training_labels_final = np.array([label_mapping[label] for label in training_labels])\n",
        "testing_labels_final = np.array([label_mapping[label] for label in testing_labels])"
      ],
      "metadata": {
        "id": "9kJ-5UG8F_nC"
      },
      "execution_count": 5,
      "outputs": []
    },
    {
      "cell_type": "markdown",
      "source": [
        "## Remove Stopword"
      ],
      "metadata": {
        "id": "PQlf4UzBGNNG"
      }
    },
    {
      "cell_type": "code",
      "source": [
        "# Function to remove stopwords\n",
        "def remove_stopwords(sentence):\n",
        "    stopwords = [\"a\", \"about\", \"above\", \"after\", \"again\", \"against\", \"all\", \"am\", \"an\", \"and\", \"any\", \"are\", \"as\", \"at\",\n",
        "                 \"be\", \"because\", \"been\", \"before\", \"being\", \"below\", \"between\", \"both\", \"but\", \"by\", \"could\", \"did\",\n",
        "                 \"do\", \"does\", \"doing\", \"down\", \"during\", \"each\", \"few\", \"for\", \"from\", \"further\", \"had\", \"has\", \"have\",\n",
        "                 \"having\", \"he\", \"he'd\", \"he'll\", \"he's\", \"her\", \"here\", \"here's\", \"hers\", \"herself\", \"him\", \"himself\",\n",
        "                 \"his\", \"how\", \"how's\", \"i\", \"i'd\", \"i'll\", \"i'm\", \"i've\", \"if\", \"in\", \"into\", \"is\", \"it\", \"it's\",\n",
        "                 \"its\", \"itself\", \"let's\", \"me\", \"more\", \"most\", \"my\", \"myself\", \"nor\", \"of\", \"on\", \"once\", \"only\",\n",
        "                 \"or\", \"other\", \"ought\", \"our\", \"ours\", \"ourselves\", \"out\", \"over\", \"own\", \"same\", \"she\", \"she'd\",\n",
        "                 \"she'll\", \"she's\", \"should\", \"so\", \"some\", \"such\", \"than\", \"that\", \"that's\", \"the\", \"their\", \"theirs\",\n",
        "                 \"them\", \"themselves\", \"then\", \"there\", \"there's\", \"these\", \"they\", \"they'd\", \"they'll\", \"they're\",\n",
        "                 \"they've\", \"this\", \"those\", \"through\", \"to\", \"too\", \"under\", \"until\", \"up\", \"very\", \"was\", \"we\",\n",
        "                 \"we'd\", \"we'll\", \"we're\", \"we've\", \"were\", \"what\", \"what's\", \"when\", \"when's\", \"where\", \"where's\",\n",
        "                 \"which\", \"while\", \"who\", \"who's\", \"whom\", \"why\", \"why's\", \"with\", \"would\", \"you\", \"you'd\", \"you'll\",\n",
        "                 \"you're\", \"you've\", \"your\", \"yours\", \"yourself\", \"yourselves\"]\n",
        "\n",
        "    sentence = sentence.lower()\n",
        "    words = sentence.split()\n",
        "    no_stopwords = [w for w in words if w not in stopwords]\n",
        "    return \" \".join(no_stopwords)\n",
        "\n",
        "# Clean the sentences by removing stopwords\n",
        "training_sentences = [remove_stopwords(sentence) for sentence in training_sentences]\n",
        "testing_sentences = [remove_stopwords(sentence) for sentence in testing_sentences]"
      ],
      "metadata": {
        "id": "XPpITG6GGSCu"
      },
      "execution_count": 6,
      "outputs": []
    },
    {
      "cell_type": "markdown",
      "source": [
        "## Set Parameter"
      ],
      "metadata": {
        "id": "6hmm8ZMRGTW0"
      }
    },
    {
      "cell_type": "code",
      "source": [
        "# Parameters\n",
        "vocab_size = 10000\n",
        "max_length = 100\n",
        "embedding_dim = 2000\n",
        "trunc_type = 'post'\n",
        "oov_tok = \"<OOV>\""
      ],
      "metadata": {
        "id": "Lx5TGOjmGapY"
      },
      "execution_count": 7,
      "outputs": []
    },
    {
      "cell_type": "markdown",
      "source": [
        "# Tokenize and Padding"
      ],
      "metadata": {
        "id": "PlBDeRNdGcKg"
      }
    },
    {
      "cell_type": "code",
      "source": [
        "# Clear previous models and sessions\n",
        "tf.keras.backend.clear_session()"
      ],
      "metadata": {
        "id": "CM5HuVCiLkwH"
      },
      "execution_count": 8,
      "outputs": []
    },
    {
      "cell_type": "code",
      "source": [
        "# Initialize the Tokenizer class\n",
        "tokenizer = Tokenizer(num_words=vocab_size, oov_token=oov_tok)\n",
        "\n",
        "# Generate the word index dictionary for the training sentences\n",
        "tokenizer.fit_on_texts(training_sentences)\n",
        "word_index = tokenizer.word_index\n",
        "\n",
        "# Generate and pad the training sequences\n",
        "train_sequences = tokenizer.texts_to_sequences(training_sentences)\n",
        "train_padded = pad_sequences(train_sequences, maxlen=max_length, truncating=trunc_type)\n",
        "\n",
        "# Generate and pad the test sequences\n",
        "test_sequences = tokenizer.texts_to_sequences(testing_sentences)\n",
        "test_padded = pad_sequences(test_sequences, maxlen=max_length, truncating=trunc_type)"
      ],
      "metadata": {
        "id": "R_H6HImMGh3w"
      },
      "execution_count": 9,
      "outputs": []
    },
    {
      "cell_type": "markdown",
      "source": [
        "1. Inisialisasi Tokenizer\n",
        " - Tokenizer: Menginisialisasi kelas Tokenizer dari Keras untuk mempersiapkan teks agar dapat diproses oleh model.\n",
        " - num_words: Menentukan jumlah maksimum kata yang akan dipertimbangkan dalam tokenizer berdasarkan frekuensi.\n",
        " - oov_token: Menentukan token yang akan digunakan untuk kata-kata yang tidak ditemukan dalam vocab_size (out-of-vocabulary).\n",
        "\n",
        "2. Membuat Kamus Kata untuk Kalimat Pelatihan\n",
        " - fit_on_texts: Melatih tokenizer pada kalimat pelatihan untuk membuat kamus kata.\n",
        " - word_index: Kamus kata yang dihasilkan, di mana setiap kata diberikan indeks unik.\n",
        "\n",
        "3. Membuat dan Mengisi Sequence Pelatihan\n",
        " - texts_to_sequences: Mengonversi kalimat pelatihan menjadi urutan indeks berdasarkan kamus kata (word_index).\n",
        " - pad_sequences: Mengisi (padding) urutan indeks agar memiliki panjang yang sama (max_length). truncating menentukan cara memotong urutan yang lebih panjang dari max_length.\n",
        "\n",
        "4. Membuat dan Mengisi Sequence Pengujian\n",
        " - texts_to_sequences: Mengonversi kalimat pengujian menjadi urutan indeks seperti pada kalimat pelatihan.\n",
        " - pad_sequences: Mengisi urutan indeks untuk kalimat pengujian agar memiliki panjang yang sama (max_length).\n",
        "\n"
      ],
      "metadata": {
        "id": "Hkv_lCJ6RSuh"
      }
    },
    {
      "cell_type": "markdown",
      "source": [
        "# Model **1**"
      ],
      "metadata": {
        "id": "xpKy4oL5Gjxl"
      }
    },
    {
      "cell_type": "markdown",
      "source": [
        "## Model ARC"
      ],
      "metadata": {
        "id": "QI08X1KXKFcJ"
      }
    },
    {
      "cell_type": "code",
      "source": [
        "# Build the model\n",
        "model = tf.keras.Sequential([\n",
        "    tf.keras.layers.Embedding(vocab_size, embedding_dim, input_length=max_length),\n",
        "    tf.keras.layers.GlobalAveragePooling1D(),\n",
        "    tf.keras.layers.Dense(6, activation='relu'),\n",
        "    tf.keras.layers.Dense(3, activation='softmax')  # 3 neurons for 'buruk', 'netral', 'bagus'\n",
        "])\n"
      ],
      "metadata": {
        "id": "6GVIp0RzF8yx"
      },
      "execution_count": 10,
      "outputs": []
    },
    {
      "cell_type": "markdown",
      "source": [
        "## Compile and Train Model 1"
      ],
      "metadata": {
        "id": "qF821Q4VGqMi"
      }
    },
    {
      "cell_type": "code",
      "source": [
        "from tensorflow.keras.callbacks import EarlyStopping\n",
        "early_stop = EarlyStopping(monitor='val_loss', patience=7)"
      ],
      "metadata": {
        "id": "Qxsge3RQHpMi"
      },
      "execution_count": 11,
      "outputs": []
    },
    {
      "cell_type": "code",
      "source": [
        "# Setup the training parameters\n",
        "model.compile(loss='sparse_categorical_crossentropy',\n",
        "              optimizer='adam',\n",
        "              metrics=['sparse_categorical_accuracy'])\n",
        "\n",
        "# Print the model summary\n",
        "model.summary()"
      ],
      "metadata": {
        "id": "j1AVCGZbGpyW",
        "outputId": "587fd38d-6a49-4f6a-c192-94ee6b6029ce",
        "colab": {
          "base_uri": "https://localhost:8080/"
        }
      },
      "execution_count": 12,
      "outputs": [
        {
          "output_type": "stream",
          "name": "stdout",
          "text": [
            "Model: \"sequential\"\n",
            "_________________________________________________________________\n",
            " Layer (type)                Output Shape              Param #   \n",
            "=================================================================\n",
            " embedding (Embedding)       (None, 100, 2000)         20000000  \n",
            "                                                                 \n",
            " global_average_pooling1d (  (None, 2000)              0         \n",
            " GlobalAveragePooling1D)                                         \n",
            "                                                                 \n",
            " dense (Dense)               (None, 6)                 12006     \n",
            "                                                                 \n",
            " dense_1 (Dense)             (None, 3)                 21        \n",
            "                                                                 \n",
            "=================================================================\n",
            "Total params: 20012027 (76.34 MB)\n",
            "Trainable params: 20012027 (76.34 MB)\n",
            "Non-trainable params: 0 (0.00 Byte)\n",
            "_________________________________________________________________\n"
          ]
        }
      ]
    },
    {
      "cell_type": "markdown",
      "source": [
        "### ReadME"
      ],
      "metadata": {
        "id": "frSor64nKp1v"
      }
    },
    {
      "cell_type": "markdown",
      "source": [
        "- tf.keras.Sequential: Menginisialisasi model Sequential dari Keras yang memungkinkan pembuatan layer secara berurutan.\n",
        "- Embedding: Layer embedding yang mengonversi indeks kata menjadi vektor dengan dimensi tertentu (embedding_dim). input_length adalah panjang maksimum urutan kata.\n",
        "- GlobalAveragePooling1D: Layer pooling yang mengurangi dimensi dengan mengambil rata-rata dari semua vektor dalam urutan, menghasilkan satu vektor per urutan.\n",
        "- Dense: Layer Dense dengan 6 neuron dan fungsi aktivasi relu, untuk menambah kompleksitas dan kemampuan belajar non-linear.\n",
        "- Dense: Layer Dense dengan 3 neuron dan fungsi aktivasi softmax, untuk menghasilkan probabilitas untuk 3 kelas output ('buruk', 'netral', 'bagus').\n",
        "- Model ini dirancang untuk klasifikasi teks ke dalam tiga kategori dengan menggunakan embedding kata dan layer pooling untuk mengurangi dimensi sebelum klasifikasi."
      ],
      "metadata": {
        "id": "JXfdRPktR9y-"
      }
    },
    {
      "cell_type": "markdown",
      "source": [
        "## Train"
      ],
      "metadata": {
        "id": "WUZ0Z-LiKwh5"
      }
    },
    {
      "cell_type": "code",
      "source": [
        "# Train the model\n",
        "history = model.fit(train_padded, training_labels_final, epochs=100, validation_data=(test_padded, testing_labels_final), verbose=2, callbacks = [early_stop])"
      ],
      "metadata": {
        "id": "9mKbkERsI7Xi",
        "outputId": "63e58114-8a1b-4320-a862-a66f9c9a6593",
        "colab": {
          "base_uri": "https://localhost:8080/"
        }
      },
      "execution_count": 13,
      "outputs": [
        {
          "output_type": "stream",
          "name": "stdout",
          "text": [
            "Epoch 1/100\n",
            "75/75 - 15s - loss: 0.8483 - sparse_categorical_accuracy: 0.7546 - val_loss: 0.5808 - val_sparse_categorical_accuracy: 0.8737 - 15s/epoch - 201ms/step\n",
            "Epoch 2/100\n",
            "75/75 - 16s - loss: 0.5028 - sparse_categorical_accuracy: 0.8708 - val_loss: 0.4508 - val_sparse_categorical_accuracy: 0.8737 - 16s/epoch - 218ms/step\n",
            "Epoch 3/100\n",
            "75/75 - 15s - loss: 0.4103 - sparse_categorical_accuracy: 0.8708 - val_loss: 0.4071 - val_sparse_categorical_accuracy: 0.8737 - 15s/epoch - 198ms/step\n",
            "Epoch 4/100\n",
            "75/75 - 8s - loss: 0.3507 - sparse_categorical_accuracy: 0.8725 - val_loss: 0.3789 - val_sparse_categorical_accuracy: 0.8687 - 8s/epoch - 105ms/step\n",
            "Epoch 5/100\n",
            "75/75 - 7s - loss: 0.2846 - sparse_categorical_accuracy: 0.8977 - val_loss: 0.3697 - val_sparse_categorical_accuracy: 0.8754 - 7s/epoch - 87ms/step\n",
            "Epoch 6/100\n",
            "75/75 - 7s - loss: 0.2178 - sparse_categorical_accuracy: 0.9129 - val_loss: 0.3801 - val_sparse_categorical_accuracy: 0.8721 - 7s/epoch - 88ms/step\n",
            "Epoch 7/100\n",
            "75/75 - 6s - loss: 0.1634 - sparse_categorical_accuracy: 0.9487 - val_loss: 0.4192 - val_sparse_categorical_accuracy: 0.8704 - 6s/epoch - 82ms/step\n",
            "Epoch 8/100\n",
            "75/75 - 4s - loss: 0.1216 - sparse_categorical_accuracy: 0.9684 - val_loss: 0.4436 - val_sparse_categorical_accuracy: 0.8704 - 4s/epoch - 59ms/step\n",
            "Epoch 9/100\n",
            "75/75 - 2s - loss: 0.0888 - sparse_categorical_accuracy: 0.9781 - val_loss: 0.4809 - val_sparse_categorical_accuracy: 0.8603 - 2s/epoch - 33ms/step\n",
            "Epoch 10/100\n",
            "75/75 - 3s - loss: 0.0681 - sparse_categorical_accuracy: 0.9823 - val_loss: 0.5037 - val_sparse_categorical_accuracy: 0.8603 - 3s/epoch - 43ms/step\n",
            "Epoch 11/100\n",
            "75/75 - 3s - loss: 0.0500 - sparse_categorical_accuracy: 0.9878 - val_loss: 0.5670 - val_sparse_categorical_accuracy: 0.8569 - 3s/epoch - 35ms/step\n",
            "Epoch 12/100\n",
            "75/75 - 3s - loss: 0.0434 - sparse_categorical_accuracy: 0.9878 - val_loss: 0.5784 - val_sparse_categorical_accuracy: 0.8552 - 3s/epoch - 36ms/step\n"
          ]
        }
      ]
    },
    {
      "cell_type": "markdown",
      "source": [
        "# Model 2"
      ],
      "metadata": {
        "id": "GBwjVD6VGDQ0"
      }
    },
    {
      "cell_type": "code",
      "source": [
        "# Hyperparameters\n",
        "embedding_dim = embedding_dim\n",
        "lstm_dim = 64\n",
        "dense_dim = 64\n",
        "\n",
        "# Build the model\n",
        "# Build the model\n",
        "model2 = tf.keras.Sequential([\n",
        "    tf.keras.layers.Embedding(vocab_size, embedding_dim),\n",
        "    tf.keras.layers.Bidirectional(tf.keras.layers.LSTM(lstm_dim)),\n",
        "    tf.keras.layers.Dense(dense_dim, activation='relu'),\n",
        "    tf.keras.layers.Dense(3, activation='softmax')\n",
        "])\n",
        "\n",
        "# Print the model summary\n",
        "model2.summary()"
      ],
      "metadata": {
        "colab": {
          "base_uri": "https://localhost:8080/"
        },
        "id": "Pz07x9OOF_JT",
        "outputId": "18677803-31d4-4d1f-c16d-9f48cfb6dd43"
      },
      "execution_count": null,
      "outputs": [
        {
          "output_type": "stream",
          "name": "stdout",
          "text": [
            "Model: \"sequential_1\"\n",
            "_________________________________________________________________\n",
            " Layer (type)                Output Shape              Param #   \n",
            "=================================================================\n",
            " embedding_1 (Embedding)     (None, None, 64)          640000    \n",
            "                                                                 \n",
            " bidirectional (Bidirection  (None, 128)               66048     \n",
            " al)                                                             \n",
            "                                                                 \n",
            " dense_2 (Dense)             (None, 64)                8256      \n",
            "                                                                 \n",
            " dense_3 (Dense)             (None, 3)                 195       \n",
            "                                                                 \n",
            "=================================================================\n",
            "Total params: 714499 (2.73 MB)\n",
            "Trainable params: 714499 (2.73 MB)\n",
            "Non-trainable params: 0 (0.00 Byte)\n",
            "_________________________________________________________________\n"
          ]
        }
      ]
    },
    {
      "cell_type": "code",
      "source": [
        "# Setup the training parameters\n",
        "model2.compile(loss='sparse_categorical_crossentropy',\n",
        "              optimizer='adam',\n",
        "              metrics=['sparse_categorical_accuracy'])\n",
        "\n",
        "# Train the model\n",
        "history2 = model2.fit(train_padded, training_labels_final, epochs=100, validation_data=(test_padded, testing_labels_final), verbose=2, callbacks = [early_stop])"
      ],
      "metadata": {
        "colab": {
          "base_uri": "https://localhost:8080/"
        },
        "id": "HeXsWlZ7GRo9",
        "outputId": "bfa27d01-9678-4cdd-c07e-9428278ca336"
      },
      "execution_count": null,
      "outputs": [
        {
          "output_type": "stream",
          "name": "stdout",
          "text": [
            "Epoch 1/100\n",
            "75/75 - 15s - loss: 0.5750 - sparse_categorical_accuracy: 0.8569 - val_loss: 0.4338 - val_sparse_categorical_accuracy: 0.8737 - 15s/epoch - 194ms/step\n",
            "Epoch 2/100\n",
            "75/75 - 8s - loss: 0.3722 - sparse_categorical_accuracy: 0.8742 - val_loss: 0.3989 - val_sparse_categorical_accuracy: 0.8721 - 8s/epoch - 103ms/step\n",
            "Epoch 3/100\n",
            "75/75 - 5s - loss: 0.2092 - sparse_categorical_accuracy: 0.9099 - val_loss: 0.4407 - val_sparse_categorical_accuracy: 0.8367 - 5s/epoch - 69ms/step\n",
            "Epoch 4/100\n",
            "75/75 - 5s - loss: 0.1316 - sparse_categorical_accuracy: 0.9377 - val_loss: 0.5725 - val_sparse_categorical_accuracy: 0.8535 - 5s/epoch - 65ms/step\n",
            "Epoch 5/100\n",
            "75/75 - 7s - loss: 0.0900 - sparse_categorical_accuracy: 0.9571 - val_loss: 0.6654 - val_sparse_categorical_accuracy: 0.8350 - 7s/epoch - 93ms/step\n",
            "Epoch 6/100\n",
            "75/75 - 3s - loss: 0.0683 - sparse_categorical_accuracy: 0.9710 - val_loss: 0.9105 - val_sparse_categorical_accuracy: 0.8670 - 3s/epoch - 42ms/step\n",
            "Epoch 7/100\n",
            "75/75 - 4s - loss: 0.0460 - sparse_categorical_accuracy: 0.9844 - val_loss: 0.9375 - val_sparse_categorical_accuracy: 0.8199 - 4s/epoch - 47ms/step\n",
            "Epoch 8/100\n",
            "75/75 - 3s - loss: 0.0294 - sparse_categorical_accuracy: 0.9899 - val_loss: 0.9814 - val_sparse_categorical_accuracy: 0.8249 - 3s/epoch - 35ms/step\n",
            "Epoch 9/100\n",
            "75/75 - 6s - loss: 0.0191 - sparse_categorical_accuracy: 0.9937 - val_loss: 1.0385 - val_sparse_categorical_accuracy: 0.8519 - 6s/epoch - 78ms/step\n"
          ]
        }
      ]
    },
    {
      "cell_type": "markdown",
      "source": [
        "# Visualize Model Acc"
      ],
      "metadata": {
        "id": "ml6GloICJURS"
      }
    },
    {
      "cell_type": "code",
      "source": [
        "import matplotlib.pyplot as plt\n",
        "\n",
        "# Plot utility\n",
        "def plot_graphs(history, string):\n",
        "  plt.plot(history.history[string])\n",
        "  plt.plot(history.history['val_'+string])\n",
        "  plt.xlabel(\"Epochs\")\n",
        "  plt.ylabel(string)\n",
        "  plt.legend([string, 'val_'+string])\n",
        "  plt.show()\n",
        "\n",
        "# Plot the accuracy and results\n",
        "plot_graphs(history, \"sparse_categorical_accuracy\")\n",
        "plot_graphs(history, \"loss\")"
      ],
      "metadata": {
        "colab": {
          "base_uri": "https://localhost:8080/",
          "height": 881
        },
        "id": "9kbGac4sJice",
        "outputId": "adb9e7d8-b7de-4c84-e9f9-cee8bb4f9aaf"
      },
      "execution_count": null,
      "outputs": [
        {
          "output_type": "display_data",
          "data": {
            "text/plain": [
              "<Figure size 640x480 with 1 Axes>"
            ],
            "image/png": "[encoded data removed]"
          },
          "metadata": {}
        },
        {
          "output_type": "display_data",
          "data": {
            "text/plain": [
              "<Figure size 640x480 with 1 Axes>"
            ],
            "image/png": "[encoded data removed]"
          },
          "metadata": {}
        }
      ]
    },
    {
      "cell_type": "code",
      "source": [
        "import matplotlib.pyplot as plt\n",
        "\n",
        "# Plot utility\n",
        "def plot_graphs(history, string):\n",
        "  plt.plot(history2.history[string])\n",
        "  plt.plot(history2.history['val_'+string])\n",
        "  plt.xlabel(\"Epochs\")\n",
        "  plt.ylabel(string)\n",
        "  plt.legend([string, 'val_'+string])\n",
        "  plt.show()\n",
        "\n",
        "# Plot the accuracy and results\n",
        "plot_graphs(history2, \"sparse_categorical_accuracy\")\n",
        "plot_graphs(history2, \"loss\")"
      ],
      "metadata": {
        "colab": {
          "base_uri": "https://localhost:8080/",
          "height": 882
        },
        "id": "b6sCaAWjJaLk",
        "outputId": "8d044f94-81d1-430d-ae28-be8194be73a0"
      },
      "execution_count": null,
      "outputs": [
        {
          "output_type": "display_data",
          "data": {
            "text/plain": [
              "<Figure size 640x480 with 1 Axes>"
            ],
            "image/png": "[encoded data removed]"
          },
          "metadata": {}
        },
        {
          "output_type": "display_data",
          "data": {
            "text/plain": [
              "<Figure size 640x480 with 1 Axes>"
            ],
            "image/png": "[encoded data removed]"
          },
          "metadata": {}
        }
      ]
    },
    {
      "cell_type": "markdown",
      "source": [
        "# Visualize Word Embeddings\n",
        "Kode Berikut tidak perlu dijalankan.\n",
        "Download file .TSV [di sini](https://drive.google.com/drive/folders/1oyENkkB3_0_Nw-F_T1KxcgacQ6e8oyWo?usp=sharing) saja."
      ],
      "metadata": {
        "id": "kAtNlTm9Rwf_"
      }
    },
    {
      "cell_type": "code",
      "source": [
        "# Get the embedding layer from the model (i.e. first layer)\n",
        "embedding_layer = model.layers[0]\n",
        "\n",
        "# Get the weights of the embedding layer\n",
        "embedding_weights = embedding_layer.get_weights()[0]\n",
        "\n",
        "# Print the shape. Expected is (vocab_size, embedding_dim)\n",
        "print(embedding_weights.shape)"
      ],
      "metadata": {
        "colab": {
          "base_uri": "https://localhost:8080/"
        },
        "id": "eROQKmFcRvww",
        "outputId": "36f9a231-6d1c-4015-c821-646b7ec45200"
      },
      "execution_count": null,
      "outputs": [
        {
          "output_type": "stream",
          "name": "stdout",
          "text": [
            "(10000, 64)\n"
          ]
        }
      ]
    },
    {
      "cell_type": "code",
      "source": [
        "# Get the index-word dictionary\n",
        "reverse_word_index = tokenizer.index_word"
      ],
      "metadata": {
        "id": "3yR9jXxHRyt8"
      },
      "execution_count": null,
      "outputs": []
    },
    {
      "cell_type": "code",
      "source": [
        "import io\n",
        "\n",
        "# Open writeable files\n",
        "out_v = io.open('vecs.tsv', 'w', encoding='utf-8')\n",
        "out_m = io.open('meta.tsv', 'w', encoding='utf-8')\n",
        "\n",
        "# Initialize the loop. Start counting at `1` because `0` is just for the padding\n",
        "for word_num in range(1, vocab_size):\n",
        "\n",
        "  # Get the word associated at the current index\n",
        "  word_name = reverse_word_index[word_num]\n",
        "\n",
        "  # Get the embedding weights associated with the current index\n",
        "  word_embedding = embedding_weights[word_num]\n",
        "\n",
        "  # Write the word name\n",
        "  out_m.write(word_name + \"\\n\")\n",
        "\n",
        "  # Write the word embedding\n",
        "  out_v.write('\\t'.join([str(x) for x in word_embedding]) + \"\\n\")\n",
        "\n",
        "# Close the files\n",
        "out_v.close()\n",
        "out_m.close()"
      ],
      "metadata": {
        "id": "1cF_P0s2R1Pj"
      },
      "execution_count": null,
      "outputs": []
    },
    {
      "cell_type": "markdown",
      "source": [
        "```\n",
        "#  Import files utilities in Colab\n",
        "try:\n",
        "  from google.colab import files\n",
        "except ImportError:\n",
        "  pass\n",
        "\n",
        "# Download the files\n",
        "else:\n",
        "  files.download('vecs.tsv')\n",
        "  files.download('meta.tsv')\n",
        "```"
      ],
      "metadata": {
        "id": "XsyHjAIAFfBd"
      }
    },
    {
      "cell_type": "markdown",
      "source": [
        "# Save Model"
      ],
      "metadata": {
        "id": "KR_e3ZgJVpZk"
      }
    },
    {
      "cell_type": "code",
      "source": [
        "import os\n",
        "\n",
        "# Specifies the model directory\n",
        "model_dir = '/tmp/saved_model'\n",
        "\n",
        "try:\n",
        "    os.mkdir(model_dir)\n",
        "    print(f\"Directory '{model_dir}' created successfully.\")\n",
        "except OSError as e:\n",
        "    print(f\"Error creating directory: {e}\")\n"
      ],
      "metadata": {
        "id": "_kPCcpkUZm7x"
      },
      "execution_count": null,
      "outputs": []
    },
    {
      "cell_type": "code",
      "source": [
        "# Save model with save_model\n",
        "model_version = 1\n",
        "tf.saved_model.save(\n",
        "    model,\n",
        "    export_dir = os.path.join(model_dir, str(model_version))\n",
        ")"
      ],
      "metadata": {
        "id": "TGQWbK89W2kJ"
      },
      "execution_count": 21,
      "outputs": []
    },
    {
      "cell_type": "code",
      "source": [
        "!zip -r /tmp/saved_model.zip /tmp/saved_model"
      ],
      "metadata": {
        "id": "yZcs-1k0aSSU",
        "outputId": "aac0000b-9deb-4db0-af6e-e15633492bf2",
        "colab": {
          "base_uri": "https://localhost:8080/"
        }
      },
      "execution_count": 23,
      "outputs": [
        {
          "output_type": "stream",
          "name": "stdout",
          "text": [
            "  adding: tmp/saved_model/ (stored 0%)\n",
            "  adding: tmp/saved_model/1/ (stored 0%)\n",
            "  adding: tmp/saved_model/1/saved_model.pb (deflated 86%)\n",
            "  adding: tmp/saved_model/1/fingerprint.pb (stored 0%)\n",
            "  adding: tmp/saved_model/1/assets/ (stored 0%)\n",
            "  adding: tmp/saved_model/1/variables/ (stored 0%)\n",
            "  adding: tmp/saved_model/1/variables/variables.data-00000-of-00001 (deflated 23%)\n",
            "  adding: tmp/saved_model/1/variables/variables.index (deflated 58%)\n"
          ]
        }
      ]
    },
    {
      "cell_type": "code",
      "source": [
        "from google.colab import files\n",
        "\n",
        "files.download('/tmp/saved_model.zip')\n",
        "print('`saved model.zip` has been downloaded')"
      ],
      "metadata": {
        "id": "wbHv-E6PXnGQ",
        "outputId": "0c8bc616-8e4d-4238-afe7-e56577d3fd13",
        "colab": {
          "base_uri": "https://localhost:8080/",
          "height": 34
        }
      },
      "execution_count": 33,
      "outputs": [
        {
          "output_type": "display_data",
          "data": {
            "text/plain": [
              "<IPython.core.display.Javascript object>"
            ],
            "application/javascript": [
              "\n",
              "    async function download(id, filename, size) {\n",
              "      if (!google.colab.kernel.accessAllowed) {\n",
              "        return;\n",
              "      }\n",
              "      const div = document.createElement('div');\n",
              "      const label = document.createElement('label');\n",
              "      label.textContent = `Downloading \"${filename}\": `;\n",
              "      div.appendChild(label);\n",
              "      const progress = document.createElement('progress');\n",
              "      progress.max = size;\n",
              "      div.appendChild(progress);\n",
              "      document.body.appendChild(div);\n",
              "\n",
              "      const buffers = [];\n",
              "      let downloaded = 0;\n",
              "\n",
              "      const channel = await google.colab.kernel.comms.open(id);\n",
              "      // Send a message to notify the kernel that we're ready.\n",
              "      channel.send({})\n",
              "\n",
              "      for await (const message of channel.messages) {\n",
              "        // Send a message to notify the kernel that we're ready.\n",
              "        channel.send({})\n",
              "        if (message.buffers) {\n",
              "          for (const buffer of message.buffers) {\n",
              "            buffers.push(buffer);\n",
              "            downloaded += buffer.byteLength;\n",
              "            progress.value = downloaded;\n",
              "          }\n",
              "        }\n",
              "      }\n",
              "      const blob = new Blob(buffers, {type: 'application/binary'});\n",
              "      const a = document.createElement('a');\n",
              "      a.href = window.URL.createObjectURL(blob);\n",
              "      a.download = filename;\n",
              "      div.appendChild(a);\n",
              "      a.click();\n",
              "      div.remove();\n",
              "    }\n",
              "  "
            ]
          },
          "metadata": {}
        },
        {
          "output_type": "display_data",
          "data": {
            "text/plain": [
              "<IPython.core.display.Javascript object>"
            ],
            "application/javascript": [
              "download(\"download_ab19175e-5412-4608-9194-1507495dfd3e\", \"saved_model.zip\", 184598680)"
            ]
          },
          "metadata": {}
        },
        {
          "output_type": "stream",
          "name": "stdout",
          "text": [
            "`saved model.zip` has been downloaded\n"
          ]
        }
      ]
    }
  ],
  "metadata": {
    "kernelspec": {
      "display_name": "Python 3",
      "name": "python3"
    },
    "language_info": {
      "codemirror_mode": {
        "name": "ipython",
        "version": 3
      },
      "file_extension": ".py",
      "mimetype": "text/x-python",
      "name": "python",
      "nbconvert_exporter": "python",
      "pygments_lexer": "ipython3",
      "version": "3.12.2"
    },
    "colab": {
      "provenance": [],
      "gpuType": "T4",
      "include_colab_link": true
    },
    "accelerator": "GPU"
  },
  "nbformat": 4,
  "nbformat_minor": 0
}