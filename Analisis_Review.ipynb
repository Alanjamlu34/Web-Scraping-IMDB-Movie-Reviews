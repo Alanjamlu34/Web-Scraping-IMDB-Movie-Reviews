{
  "cells": [
    {
      "cell_type": "markdown",
      "metadata": {
        "id": "view-in-github",
        "colab_type": "text"
      },
      "source": [
        "<a href=\"https://colab.research.google.com/github/Alanjamlu34/Web-Scraping-IMDB-Movie-Reviews/blob/main/Analisis_Review.ipynb\" target=\"_parent\"><img src=\"https://colab.research.google.com/assets/colab-badge.svg\" alt=\"Open In Colab\"/></a>"
      ]
    },
    {
      "cell_type": "markdown",
      "source": [
        "# Import Library"
      ],
      "metadata": {
        "id": "--i6yXmcFyHd"
      }
    },
    {
      "cell_type": "code",
      "source": [
        "import numpy as np\n",
        "import pandas as pd\n",
        "from sklearn.model_selection import train_test_split\n",
        "from tensorflow.keras.preprocessing.text import Tokenizer\n",
        "from tensorflow.keras.preprocessing.sequence import pad_sequences\n",
        "import tensorflow as tf"
      ],
      "metadata": {
        "id": "6-67NDAgF0HK"
      },
      "execution_count": 1,
      "outputs": []
    },
    {
      "cell_type": "markdown",
      "metadata": {
        "id": "0Pe7K3vcE_jR"
      },
      "source": [
        "# Read Dataset"
      ]
    },
    {
      "cell_type": "code",
      "source": [
        "# Load the data from the specified path\n",
        "data_path = \"/content/data.csv\"\n",
        "df = pd.read_csv(data_path)\n",
        "df.head()"
      ],
      "metadata": {
        "id": "7Bd1DbyPOkmi",
        "colab": {
          "base_uri": "https://localhost:8080/",
          "height": 206
        },
        "outputId": "b0f3a57f-fa3d-42f1-de20-c44ec724983a"
      },
      "execution_count": 19,
      "outputs": [
        {
          "output_type": "execute_result",
          "data": {
            "text/plain": [
              "           Date                                           overview  Stars  \\\n",
              "0   25 May 2005                     Life's Lessons in one Movie...   10.0   \n",
              "1  8 April 2002           A beautiful fable for now and the future   10.0   \n",
              "2  10 June 2002  Let's see the world through the eyes of Forres...   10.0   \n",
              "3   14 May 2007  In my opinion, no film has touched me more tha...   10.0   \n",
              "4  20 June 2005                           The zen of Forrest Gump.   10.0   \n",
              "\n",
              "                                              Review  \n",
              "0  When I first saw this movie I didn't appreciat...  \n",
              "1  I believe everyone has a right to their opinio...  \n",
              "2  \"I've made about 20 films and 5 of them are pr...  \n",
              "3  Quite simply, the greatest film ever made.Humo...  \n",
              "4  This is a powerful yet charming movie; fun for...  "
            ],
            "text/html": [
              "\n",
              "  <div id=\"df-fa79424e-510b-4c9e-91c8-e07a9f80ed01\" class=\"colab-df-container\">\n",
              "    <div>\n",
              "<style scoped>\n",
              "    .dataframe tbody tr th:only-of-type {\n",
              "        vertical-align: middle;\n",
              "    }\n",
              "\n",
              "    .dataframe tbody tr th {\n",
              "        vertical-align: top;\n",
              "    }\n",
              "\n",
              "    .dataframe thead th {\n",
              "        text-align: right;\n",
              "    }\n",
              "</style>\n",
              "<table border=\"1\" class=\"dataframe\">\n",
              "  <thead>\n",
              "    <tr style=\"text-align: right;\">\n",
              "      <th></th>\n",
              "      <th>Date</th>\n",
              "      <th>overview</th>\n",
              "      <th>Stars</th>\n",
              "      <th>Review</th>\n",
              "    </tr>\n",
              "  </thead>\n",
              "  <tbody>\n",
              "    <tr>\n",
              "      <th>0</th>\n",
              "      <td>25 May 2005</td>\n",
              "      <td>Life's Lessons in one Movie...</td>\n",
              "      <td>10.0</td>\n",
              "      <td>When I first saw this movie I didn't appreciat...</td>\n",
              "    </tr>\n",
              "    <tr>\n",
              "      <th>1</th>\n",
              "      <td>8 April 2002</td>\n",
              "      <td>A beautiful fable for now and the future</td>\n",
              "      <td>10.0</td>\n",
              "      <td>I believe everyone has a right to their opinio...</td>\n",
              "    </tr>\n",
              "    <tr>\n",
              "      <th>2</th>\n",
              "      <td>10 June 2002</td>\n",
              "      <td>Let's see the world through the eyes of Forres...</td>\n",
              "      <td>10.0</td>\n",
              "      <td>\"I've made about 20 films and 5 of them are pr...</td>\n",
              "    </tr>\n",
              "    <tr>\n",
              "      <th>3</th>\n",
              "      <td>14 May 2007</td>\n",
              "      <td>In my opinion, no film has touched me more tha...</td>\n",
              "      <td>10.0</td>\n",
              "      <td>Quite simply, the greatest film ever made.Humo...</td>\n",
              "    </tr>\n",
              "    <tr>\n",
              "      <th>4</th>\n",
              "      <td>20 June 2005</td>\n",
              "      <td>The zen of Forrest Gump.</td>\n",
              "      <td>10.0</td>\n",
              "      <td>This is a powerful yet charming movie; fun for...</td>\n",
              "    </tr>\n",
              "  </tbody>\n",
              "</table>\n",
              "</div>\n",
              "    <div class=\"colab-df-buttons\">\n",
              "\n",
              "  <div class=\"colab-df-container\">\n",
              "    <button class=\"colab-df-convert\" onclick=\"convertToInteractive('df-fa79424e-510b-4c9e-91c8-e07a9f80ed01')\"\n",
              "            title=\"Convert this dataframe to an interactive table.\"\n",
              "            style=\"display:none;\">\n",
              "\n",
              "  <svg xmlns=\"http://www.w3.org/2000/svg\" height=\"24px\" viewBox=\"0 -960 960 960\">\n",
              "    <path d=\"M120-120v-720h720v720H120Zm60-500h600v-160H180v160Zm220 220h160v-160H400v160Zm0 220h160v-160H400v160ZM180-400h160v-160H180v160Zm440 0h160v-160H620v160ZM180-180h160v-160H180v160Zm440 0h160v-160H620v160Z\"/>\n",
              "  </svg>\n",
              "    </button>\n",
              "\n",
              "  <style>\n",
              "    .colab-df-container {\n",
              "      display:flex;\n",
              "      gap: 12px;\n",
              "    }\n",
              "\n",
              "    .colab-df-convert {\n",
              "      background-color: #E8F0FE;\n",
              "      border: none;\n",
              "      border-radius: 50%;\n",
              "      cursor: pointer;\n",
              "      display: none;\n",
              "      fill: #1967D2;\n",
              "      height: 32px;\n",
              "      padding: 0 0 0 0;\n",
              "      width: 32px;\n",
              "    }\n",
              "\n",
              "    .colab-df-convert:hover {\n",
              "      background-color: #E2EBFA;\n",
              "      box-shadow: 0px 1px 2px rgba(60, 64, 67, 0.3), 0px 1px 3px 1px rgba(60, 64, 67, 0.15);\n",
              "      fill: #174EA6;\n",
              "    }\n",
              "\n",
              "    .colab-df-buttons div {\n",
              "      margin-bottom: 4px;\n",
              "    }\n",
              "\n",
              "    [theme=dark] .colab-df-convert {\n",
              "      background-color: #3B4455;\n",
              "      fill: #D2E3FC;\n",
              "    }\n",
              "\n",
              "    [theme=dark] .colab-df-convert:hover {\n",
              "      background-color: #434B5C;\n",
              "      box-shadow: 0px 1px 3px 1px rgba(0, 0, 0, 0.15);\n",
              "      filter: drop-shadow(0px 1px 2px rgba(0, 0, 0, 0.3));\n",
              "      fill: #FFFFFF;\n",
              "    }\n",
              "  </style>\n",
              "\n",
              "    <script>\n",
              "      const buttonEl =\n",
              "        document.querySelector('#df-fa79424e-510b-4c9e-91c8-e07a9f80ed01 button.colab-df-convert');\n",
              "      buttonEl.style.display =\n",
              "        google.colab.kernel.accessAllowed ? 'block' : 'none';\n",
              "\n",
              "      async function convertToInteractive(key) {\n",
              "        const element = document.querySelector('#df-fa79424e-510b-4c9e-91c8-e07a9f80ed01');\n",
              "        const dataTable =\n",
              "          await google.colab.kernel.invokeFunction('convertToInteractive',\n",
              "                                                    [key], {});\n",
              "        if (!dataTable) return;\n",
              "\n",
              "        const docLinkHtml = 'Like what you see? Visit the ' +\n",
              "          '<a target=\"_blank\" href=https://colab.research.google.com/notebooks/data_table.ipynb>data table notebook</a>'\n",
              "          + ' to learn more about interactive tables.';\n",
              "        element.innerHTML = '';\n",
              "        dataTable['output_type'] = 'display_data';\n",
              "        await google.colab.output.renderOutput(dataTable, element);\n",
              "        const docLink = document.createElement('div');\n",
              "        docLink.innerHTML = docLinkHtml;\n",
              "        element.appendChild(docLink);\n",
              "      }\n",
              "    </script>\n",
              "  </div>\n",
              "\n",
              "\n",
              "<div id=\"df-a477d7be-bb6f-4b43-9cda-9c7ffb19082d\">\n",
              "  <button class=\"colab-df-quickchart\" onclick=\"quickchart('df-a477d7be-bb6f-4b43-9cda-9c7ffb19082d')\"\n",
              "            title=\"Suggest charts\"\n",
              "            style=\"display:none;\">\n",
              "\n",
              "<svg xmlns=\"http://www.w3.org/2000/svg\" height=\"24px\"viewBox=\"0 0 24 24\"\n",
              "     width=\"24px\">\n",
              "    <g>\n",
              "        <path d=\"M19 3H5c-1.1 0-2 .9-2 2v14c0 1.1.9 2 2 2h14c1.1 0 2-.9 2-2V5c0-1.1-.9-2-2-2zM9 17H7v-7h2v7zm4 0h-2V7h2v10zm4 0h-2v-4h2v4z\"/>\n",
              "    </g>\n",
              "</svg>\n",
              "  </button>\n",
              "\n",
              "<style>\n",
              "  .colab-df-quickchart {\n",
              "      --bg-color: #E8F0FE;\n",
              "      --fill-color: #1967D2;\n",
              "      --hover-bg-color: #E2EBFA;\n",
              "      --hover-fill-color: #174EA6;\n",
              "      --disabled-fill-color: #AAA;\n",
              "      --disabled-bg-color: #DDD;\n",
              "  }\n",
              "\n",
              "  [theme=dark] .colab-df-quickchart {\n",
              "      --bg-color: #3B4455;\n",
              "      --fill-color: #D2E3FC;\n",
              "      --hover-bg-color: #434B5C;\n",
              "      --hover-fill-color: #FFFFFF;\n",
              "      --disabled-bg-color: #3B4455;\n",
              "      --disabled-fill-color: #666;\n",
              "  }\n",
              "\n",
              "  .colab-df-quickchart {\n",
              "    background-color: var(--bg-color);\n",
              "    border: none;\n",
              "    border-radius: 50%;\n",
              "    cursor: pointer;\n",
              "    display: none;\n",
              "    fill: var(--fill-color);\n",
              "    height: 32px;\n",
              "    padding: 0;\n",
              "    width: 32px;\n",
              "  }\n",
              "\n",
              "  .colab-df-quickchart:hover {\n",
              "    background-color: var(--hover-bg-color);\n",
              "    box-shadow: 0 1px 2px rgba(60, 64, 67, 0.3), 0 1px 3px 1px rgba(60, 64, 67, 0.15);\n",
              "    fill: var(--button-hover-fill-color);\n",
              "  }\n",
              "\n",
              "  .colab-df-quickchart-complete:disabled,\n",
              "  .colab-df-quickchart-complete:disabled:hover {\n",
              "    background-color: var(--disabled-bg-color);\n",
              "    fill: var(--disabled-fill-color);\n",
              "    box-shadow: none;\n",
              "  }\n",
              "\n",
              "  .colab-df-spinner {\n",
              "    border: 2px solid var(--fill-color);\n",
              "    border-color: transparent;\n",
              "    border-bottom-color: var(--fill-color);\n",
              "    animation:\n",
              "      spin 1s steps(1) infinite;\n",
              "  }\n",
              "\n",
              "  @keyframes spin {\n",
              "    0% {\n",
              "      border-color: transparent;\n",
              "      border-bottom-color: var(--fill-color);\n",
              "      border-left-color: var(--fill-color);\n",
              "    }\n",
              "    20% {\n",
              "      border-color: transparent;\n",
              "      border-left-color: var(--fill-color);\n",
              "      border-top-color: var(--fill-color);\n",
              "    }\n",
              "    30% {\n",
              "      border-color: transparent;\n",
              "      border-left-color: var(--fill-color);\n",
              "      border-top-color: var(--fill-color);\n",
              "      border-right-color: var(--fill-color);\n",
              "    }\n",
              "    40% {\n",
              "      border-color: transparent;\n",
              "      border-right-color: var(--fill-color);\n",
              "      border-top-color: var(--fill-color);\n",
              "    }\n",
              "    60% {\n",
              "      border-color: transparent;\n",
              "      border-right-color: var(--fill-color);\n",
              "    }\n",
              "    80% {\n",
              "      border-color: transparent;\n",
              "      border-right-color: var(--fill-color);\n",
              "      border-bottom-color: var(--fill-color);\n",
              "    }\n",
              "    90% {\n",
              "      border-color: transparent;\n",
              "      border-bottom-color: var(--fill-color);\n",
              "    }\n",
              "  }\n",
              "</style>\n",
              "\n",
              "  <script>\n",
              "    async function quickchart(key) {\n",
              "      const quickchartButtonEl =\n",
              "        document.querySelector('#' + key + ' button');\n",
              "      quickchartButtonEl.disabled = true;  // To prevent multiple clicks.\n",
              "      quickchartButtonEl.classList.add('colab-df-spinner');\n",
              "      try {\n",
              "        const charts = await google.colab.kernel.invokeFunction(\n",
              "            'suggestCharts', [key], {});\n",
              "      } catch (error) {\n",
              "        console.error('Error during call to suggestCharts:', error);\n",
              "      }\n",
              "      quickchartButtonEl.classList.remove('colab-df-spinner');\n",
              "      quickchartButtonEl.classList.add('colab-df-quickchart-complete');\n",
              "    }\n",
              "    (() => {\n",
              "      let quickchartButtonEl =\n",
              "        document.querySelector('#df-a477d7be-bb6f-4b43-9cda-9c7ffb19082d button');\n",
              "      quickchartButtonEl.style.display =\n",
              "        google.colab.kernel.accessAllowed ? 'block' : 'none';\n",
              "    })();\n",
              "  </script>\n",
              "</div>\n",
              "    </div>\n",
              "  </div>\n"
            ],
            "application/vnd.google.colaboratory.intrinsic+json": {
              "type": "dataframe",
              "variable_name": "df",
              "summary": "{\n  \"name\": \"df\",\n  \"rows\": 2970,\n  \"fields\": [\n    {\n      \"column\": \"Date\",\n      \"properties\": {\n        \"dtype\": \"object\",\n        \"num_unique_values\": 2252,\n        \"samples\": [\n          \"5 January 2008\",\n          \"13 July 2015\",\n          \"22 April 2018\"\n        ],\n        \"semantic_type\": \"\",\n        \"description\": \"\"\n      }\n    },\n    {\n      \"column\": \"overview\",\n      \"properties\": {\n        \"dtype\": \"string\",\n        \"num_unique_values\": 2614,\n        \"samples\": [\n          \"Verygood Movie.\",\n          \"First Watch a 10\",\n          \"Heart Touching Masterpiece\"\n        ],\n        \"semantic_type\": \"\",\n        \"description\": \"\"\n      }\n    },\n    {\n      \"column\": \"Stars\",\n      \"properties\": {\n        \"dtype\": \"number\",\n        \"std\": 2.0363777795755493,\n        \"min\": 1.0,\n        \"max\": 10.0,\n        \"num_unique_values\": 10,\n        \"samples\": [\n          2.0,\n          9.0,\n          8.0\n        ],\n        \"semantic_type\": \"\",\n        \"description\": \"\"\n      }\n    },\n    {\n      \"column\": \"Review\",\n      \"properties\": {\n        \"dtype\": \"string\",\n        \"num_unique_values\": 2962,\n        \"samples\": [\n          \"Winston Groom's Forrest Gump was a novel that was complicated, but (Oscar winning) director Robert Zemeckis brings events together with visual effects that boggle even George Lucas.And leading the film in this odyssey of American life is Tom Hanks playing Gump (he won his second Oscar for his portrayal) in a film that shows one man who goes through many events in history to find the one he loves. Well done, well acted, and well directed.\",\n          \"\\\"Mama says 'stupid is as stupid does'\\\". That was a quote from one of the best movies of all time. \\\"Forrest Gump\\\" is the story of a man from Alabama with a low I.Q., whose personality is different from others, but ends up achieving many goals including football, Vietnam, shrimping, table tennis, etc. The story has words spoken by the beautiful writing of Eric Roth, and it was magically directed by Robert Zemeckis. The amazing visual effects were added to plant Tom Hanks in historical landmarks, which makes that kind of movie, a magical movie. The film had a brilliant cast involving Gary Sinise, Robin Wright, Sally Field, and the incredible Tom Hanks as the witted Forrest, himself. The movie was an incredible look of being different while being special, and never knowing what to do in life cause it just happens to you without knowing. That's why I respect this excellent film. This is one of my all-time favorite movies for a reason. It had a terrific cast, it had heart, it meant something, it was entertaining, and it was also quite incredible. A movie like this deserves to be recognized as a excellent movie. Next to \\\"Titanic\\\", \\\"Forrest Gump\\\" is my second favorite movie of all time. I enjoyed the hell out of everything, and my heart always feels special every time I watched. This is an amazing motion picture, no doubt about it. It's just a shame that nobody can respect the movie's Best Picture Oscar win objectively. Like my Mama always says, \\\"life is like a box of chocolates, you never know what you're going to get\\\". You know what, Mama was right about that! \\\"Forrest Gump\\\", in my review, \\\"A fantastic journey seen through the human eye\\\".\",\n          \"I really like this movie because it teaches you how not to judge people. Like when forrest's legs were crooked and when he ran away from the bullies they came off and he could run super fast. That shows that just about anyone can do anything if they put their mind to it.\"\n        ],\n        \"semantic_type\": \"\",\n        \"description\": \"\"\n      }\n    }\n  ]\n}"
            }
          },
          "metadata": {},
          "execution_count": 19
        }
      ]
    },
    {
      "cell_type": "markdown",
      "source": [
        "# Preprocessing Data"
      ],
      "metadata": {
        "id": "T0BtnYYDQtqR"
      }
    },
    {
      "cell_type": "markdown",
      "source": [
        "## Maping data"
      ],
      "metadata": {
        "id": "ToiV3B3bGCx8"
      }
    },
    {
      "cell_type": "code",
      "source": [
        "# Mapping dictionary for Stars column\n",
        "stars_mapping = {\n",
        "    0: 'buruk', 1: 'buruk', 2: 'buruk', 3: 'buruk',\n",
        "    4: 'netral', 5: 'netral', 6: 'netral', 7: 'netral',\n",
        "    8: 'bagus', 9: 'bagus', 10: 'bagus'\n",
        "}\n",
        "\n",
        "# Map the Stars column to categorical labels\n",
        "df['Label'] = df['Stars'].map(stars_mapping)"
      ],
      "metadata": {
        "id": "12zDa91GGEw1"
      },
      "execution_count": 3,
      "outputs": []
    },
    {
      "cell_type": "markdown",
      "source": [
        "## Split Dataset"
      ],
      "metadata": {
        "id": "bJ2KlG2FGFyY"
      }
    },
    {
      "cell_type": "code",
      "source": [
        "\n",
        "# Split the data into training and testing sets\n",
        "train_df, test_df = train_test_split(df, test_size=0.2, random_state=42)\n",
        "\n",
        "# Initialize sentences and labels lists for training\n",
        "training_sentences = train_df['Review'].tolist()\n",
        "training_labels = train_df['Label'].tolist()\n",
        "\n",
        "# Initialize sentences and labels lists for testing\n",
        "testing_sentences = test_df['Review'].tolist()\n",
        "testing_labels = test_df['Label'].tolist()\n",
        "\n",
        "# Convert labels lists to numpy arrays\n",
        "label_mapping = {'buruk': 0, 'netral': 1, 'bagus': 2}\n",
        "training_labels_final = np.array([label_mapping[label] for label in training_labels])\n",
        "testing_labels_final = np.array([label_mapping[label] for label in testing_labels])"
      ],
      "metadata": {
        "id": "9kJ-5UG8F_nC"
      },
      "execution_count": 4,
      "outputs": []
    },
    {
      "cell_type": "markdown",
      "source": [
        "## Remove Stopword"
      ],
      "metadata": {
        "id": "PQlf4UzBGNNG"
      }
    },
    {
      "cell_type": "code",
      "source": [
        "# Function to remove stopwords\n",
        "def remove_stopwords(sentence):\n",
        "    stopwords = [\"a\", \"about\", \"above\", \"after\", \"again\", \"against\", \"all\", \"am\", \"an\", \"and\", \"any\", \"are\", \"as\", \"at\",\n",
        "                 \"be\", \"because\", \"been\", \"before\", \"being\", \"below\", \"between\", \"both\", \"but\", \"by\", \"could\", \"did\",\n",
        "                 \"do\", \"does\", \"doing\", \"down\", \"during\", \"each\", \"few\", \"for\", \"from\", \"further\", \"had\", \"has\", \"have\",\n",
        "                 \"having\", \"he\", \"he'd\", \"he'll\", \"he's\", \"her\", \"here\", \"here's\", \"hers\", \"herself\", \"him\", \"himself\",\n",
        "                 \"his\", \"how\", \"how's\", \"i\", \"i'd\", \"i'll\", \"i'm\", \"i've\", \"if\", \"in\", \"into\", \"is\", \"it\", \"it's\",\n",
        "                 \"its\", \"itself\", \"let's\", \"me\", \"more\", \"most\", \"my\", \"myself\", \"nor\", \"of\", \"on\", \"once\", \"only\",\n",
        "                 \"or\", \"other\", \"ought\", \"our\", \"ours\", \"ourselves\", \"out\", \"over\", \"own\", \"same\", \"she\", \"she'd\",\n",
        "                 \"she'll\", \"she's\", \"should\", \"so\", \"some\", \"such\", \"than\", \"that\", \"that's\", \"the\", \"their\", \"theirs\",\n",
        "                 \"them\", \"themselves\", \"then\", \"there\", \"there's\", \"these\", \"they\", \"they'd\", \"they'll\", \"they're\",\n",
        "                 \"they've\", \"this\", \"those\", \"through\", \"to\", \"too\", \"under\", \"until\", \"up\", \"very\", \"was\", \"we\",\n",
        "                 \"we'd\", \"we'll\", \"we're\", \"we've\", \"were\", \"what\", \"what's\", \"when\", \"when's\", \"where\", \"where's\",\n",
        "                 \"which\", \"while\", \"who\", \"who's\", \"whom\", \"why\", \"why's\", \"with\", \"would\", \"you\", \"you'd\", \"you'll\",\n",
        "                 \"you're\", \"you've\", \"your\", \"yours\", \"yourself\", \"yourselves\"]\n",
        "\n",
        "    sentence = sentence.lower()\n",
        "    words = sentence.split()\n",
        "    no_stopwords = [w for w in words if w not in stopwords]\n",
        "    return \" \".join(no_stopwords)\n",
        "\n",
        "# Clean the sentences by removing stopwords\n",
        "training_sentences = [remove_stopwords(sentence) for sentence in training_sentences]\n",
        "testing_sentences = [remove_stopwords(sentence) for sentence in testing_sentences]"
      ],
      "metadata": {
        "id": "XPpITG6GGSCu"
      },
      "execution_count": 5,
      "outputs": []
    },
    {
      "cell_type": "markdown",
      "source": [
        "## Set Parameter"
      ],
      "metadata": {
        "id": "6hmm8ZMRGTW0"
      }
    },
    {
      "cell_type": "code",
      "source": [
        "# Parameters\n",
        "vocab_size = 10000\n",
        "max_length = 100\n",
        "embedding_dim = 2000\n",
        "trunc_type = 'post'\n",
        "oov_tok = \"<OOV>\""
      ],
      "metadata": {
        "id": "Lx5TGOjmGapY"
      },
      "execution_count": 6,
      "outputs": []
    },
    {
      "cell_type": "markdown",
      "source": [
        "# Tokenize and Padding"
      ],
      "metadata": {
        "id": "PlBDeRNdGcKg"
      }
    },
    {
      "cell_type": "code",
      "source": [
        "# Clear previous models and sessions\n",
        "tf.keras.backend.clear_session()"
      ],
      "metadata": {
        "id": "CM5HuVCiLkwH"
      },
      "execution_count": 7,
      "outputs": []
    },
    {
      "cell_type": "code",
      "source": [
        "# Initialize the Tokenizer class\n",
        "tokenizer = Tokenizer(num_words=vocab_size, oov_token=oov_tok)\n",
        "\n",
        "# Generate the word index dictionary for the training sentences\n",
        "tokenizer.fit_on_texts(training_sentences)\n",
        "word_index = tokenizer.word_index\n",
        "\n",
        "# Generate and pad the training sequences\n",
        "train_sequences = tokenizer.texts_to_sequences(training_sentences)\n",
        "train_padded = pad_sequences(train_sequences, maxlen=max_length, truncating=trunc_type)\n",
        "\n",
        "# Generate and pad the test sequences\n",
        "test_sequences = tokenizer.texts_to_sequences(testing_sentences)\n",
        "test_padded = pad_sequences(test_sequences, maxlen=max_length, truncating=trunc_type)"
      ],
      "metadata": {
        "id": "R_H6HImMGh3w"
      },
      "execution_count": 8,
      "outputs": []
    },
    {
      "cell_type": "markdown",
      "source": [
        "1. Inisialisasi Tokenizer\n",
        " - Tokenizer: Menginisialisasi kelas Tokenizer dari Keras untuk mempersiapkan teks agar dapat diproses oleh model.\n",
        " - num_words: Menentukan jumlah maksimum kata yang akan dipertimbangkan dalam tokenizer berdasarkan frekuensi.\n",
        " - oov_token: Menentukan token yang akan digunakan untuk kata-kata yang tidak ditemukan dalam vocab_size (out-of-vocabulary).\n",
        "\n",
        "2. Membuat Kamus Kata untuk Kalimat Pelatihan\n",
        " - fit_on_texts: Melatih tokenizer pada kalimat pelatihan untuk membuat kamus kata.\n",
        " - word_index: Kamus kata yang dihasilkan, di mana setiap kata diberikan indeks unik.\n",
        "\n",
        "3. Membuat dan Mengisi Sequence Pelatihan\n",
        " - texts_to_sequences: Mengonversi kalimat pelatihan menjadi urutan indeks berdasarkan kamus kata (word_index).\n",
        " - pad_sequences: Mengisi (padding) urutan indeks agar memiliki panjang yang sama (max_length). truncating menentukan cara memotong urutan yang lebih panjang dari max_length.\n",
        "\n",
        " 4. Membuat dan Mengisi Sequence Pengujian\n",
        "  - texts_to_sequences: Mengonversi kalimat pengujian menjadi urutan indeks seperti pada kalimat pelatihan.\n",
        " - pad_sequences: Mengisi urutan indeks untuk kalimat pengujian agar memiliki panjang yang sama (max_length).\n",
        "\n"
      ],
      "metadata": {
        "id": "Hkv_lCJ6RSuh"
      }
    },
    {
      "cell_type": "markdown",
      "source": [
        "# Build Model"
      ],
      "metadata": {
        "id": "xpKy4oL5Gjxl"
      }
    },
    {
      "cell_type": "code",
      "source": [
        "# Build the model\n",
        "model = tf.keras.Sequential([\n",
        "    tf.keras.layers.Embedding(vocab_size, embedding_dim, input_length=max_length),\n",
        "    tf.keras.layers.GlobalAveragePooling1D(),\n",
        "    tf.keras.layers.Dense(6, activation='relu'),\n",
        "    tf.keras.layers.Dense(3, activation='softmax')  # 3 neurons for 'buruk', 'netral', 'bagus'\n",
        "])\n"
      ],
      "metadata": {
        "id": "6GVIp0RzF8yx"
      },
      "execution_count": 9,
      "outputs": []
    },
    {
      "cell_type": "markdown",
      "source": [
        "# Compile and Train Model"
      ],
      "metadata": {
        "id": "qF821Q4VGqMi"
      }
    },
    {
      "cell_type": "code",
      "source": [
        "from tensorflow.keras.callbacks import EarlyStopping\n",
        "early_stop = EarlyStopping(monitor='val_loss', patience=10)"
      ],
      "metadata": {
        "id": "Qxsge3RQHpMi"
      },
      "execution_count": 10,
      "outputs": []
    },
    {
      "cell_type": "code",
      "source": [
        "# Setup the training parameters\n",
        "model.compile(loss='sparse_categorical_crossentropy',\n",
        "              optimizer='adam',\n",
        "              metrics=['sparse_categorical_accuracy'])\n",
        "\n",
        "# Print the model summary\n",
        "model.summary()"
      ],
      "metadata": {
        "id": "j1AVCGZbGpyW",
        "outputId": "28c2cdf4-b5c1-4cab-a3be-259c5ba7b82f",
        "colab": {
          "base_uri": "https://localhost:8080/"
        }
      },
      "execution_count": 11,
      "outputs": [
        {
          "output_type": "stream",
          "name": "stdout",
          "text": [
            "Model: \"sequential\"\n",
            "_________________________________________________________________\n",
            " Layer (type)                Output Shape              Param #   \n",
            "=================================================================\n",
            " embedding (Embedding)       (None, 100, 2000)         20000000  \n",
            "                                                                 \n",
            " global_average_pooling1d (  (None, 2000)              0         \n",
            " GlobalAveragePooling1D)                                         \n",
            "                                                                 \n",
            " dense (Dense)               (None, 6)                 12006     \n",
            "                                                                 \n",
            " dense_1 (Dense)             (None, 3)                 21        \n",
            "                                                                 \n",
            "=================================================================\n",
            "Total params: 20012027 (76.34 MB)\n",
            "Trainable params: 20012027 (76.34 MB)\n",
            "Non-trainable params: 0 (0.00 Byte)\n",
            "_________________________________________________________________\n"
          ]
        }
      ]
    },
    {
      "cell_type": "markdown",
      "source": [
        "- tf.keras.Sequential: Menginisialisasi model Sequential dari Keras yang memungkinkan pembuatan layer secara berurutan.\n",
        "- Embedding: Layer embedding yang mengonversi indeks kata menjadi vektor dengan dimensi tertentu (embedding_dim). input_length adalah panjang maksimum urutan kata.\n",
        "- GlobalAveragePooling1D: Layer pooling yang mengurangi dimensi dengan mengambil rata-rata dari semua vektor dalam urutan, menghasilkan satu vektor per urutan.\n",
        "- Dense: Layer Dense dengan 6 neuron dan fungsi aktivasi relu, untuk menambah kompleksitas dan kemampuan belajar non-linear.\n",
        "- Dense: Layer Dense dengan 3 neuron dan fungsi aktivasi softmax, untuk menghasilkan probabilitas untuk 3 kelas output ('buruk', 'netral', 'bagus').\n",
        "- Model ini dirancang untuk klasifikasi teks ke dalam tiga kategori dengan menggunakan embedding kata dan layer pooling untuk mengurangi dimensi sebelum klasifikasi."
      ],
      "metadata": {
        "id": "JXfdRPktR9y-"
      }
    },
    {
      "cell_type": "code",
      "source": [
        "# Train the model\n",
        "model.fit(train_padded, training_labels_final, epochs=100, validation_data=(test_padded, testing_labels_final), verbose=2, callbacks = [early_stop])"
      ],
      "metadata": {
        "id": "9mKbkERsI7Xi",
        "outputId": "d7b3b417-b96e-43fa-ba39-edc892e717dc",
        "colab": {
          "base_uri": "https://localhost:8080/"
        }
      },
      "execution_count": 12,
      "outputs": [
        {
          "output_type": "stream",
          "name": "stdout",
          "text": [
            "Epoch 1/100\n",
            "75/75 - 17s - loss: 0.5596 - sparse_categorical_accuracy: 0.8590 - val_loss: 0.4315 - val_sparse_categorical_accuracy: 0.8737 - 17s/epoch - 229ms/step\n",
            "Epoch 2/100\n",
            "75/75 - 9s - loss: 0.3992 - sparse_categorical_accuracy: 0.8708 - val_loss: 0.4028 - val_sparse_categorical_accuracy: 0.8721 - 9s/epoch - 121ms/step\n",
            "Epoch 3/100\n",
            "75/75 - 6s - loss: 0.3340 - sparse_categorical_accuracy: 0.8729 - val_loss: 0.3758 - val_sparse_categorical_accuracy: 0.8704 - 6s/epoch - 84ms/step\n",
            "Epoch 4/100\n",
            "75/75 - 6s - loss: 0.2589 - sparse_categorical_accuracy: 0.9108 - val_loss: 0.3687 - val_sparse_categorical_accuracy: 0.8670 - 6s/epoch - 76ms/step\n",
            "Epoch 5/100\n",
            "75/75 - 5s - loss: 0.1777 - sparse_categorical_accuracy: 0.9369 - val_loss: 0.3873 - val_sparse_categorical_accuracy: 0.8687 - 5s/epoch - 70ms/step\n",
            "Epoch 6/100\n",
            "75/75 - 5s - loss: 0.1262 - sparse_categorical_accuracy: 0.9630 - val_loss: 0.4446 - val_sparse_categorical_accuracy: 0.8670 - 5s/epoch - 70ms/step\n",
            "Epoch 7/100\n",
            "75/75 - 4s - loss: 0.0931 - sparse_categorical_accuracy: 0.9794 - val_loss: 0.4683 - val_sparse_categorical_accuracy: 0.8636 - 4s/epoch - 56ms/step\n",
            "Epoch 8/100\n",
            "75/75 - 2s - loss: 0.0671 - sparse_categorical_accuracy: 0.9836 - val_loss: 0.5325 - val_sparse_categorical_accuracy: 0.8603 - 2s/epoch - 25ms/step\n",
            "Epoch 9/100\n",
            "75/75 - 3s - loss: 0.0521 - sparse_categorical_accuracy: 0.9882 - val_loss: 0.5462 - val_sparse_categorical_accuracy: 0.8569 - 3s/epoch - 38ms/step\n",
            "Epoch 10/100\n",
            "75/75 - 4s - loss: 0.0367 - sparse_categorical_accuracy: 0.9899 - val_loss: 0.5754 - val_sparse_categorical_accuracy: 0.8620 - 4s/epoch - 49ms/step\n",
            "Epoch 11/100\n",
            "75/75 - 2s - loss: 0.0295 - sparse_categorical_accuracy: 0.9933 - val_loss: 0.6166 - val_sparse_categorical_accuracy: 0.8603 - 2s/epoch - 20ms/step\n",
            "Epoch 12/100\n",
            "75/75 - 2s - loss: 0.0244 - sparse_categorical_accuracy: 0.9949 - val_loss: 0.6892 - val_sparse_categorical_accuracy: 0.8687 - 2s/epoch - 29ms/step\n",
            "Epoch 13/100\n",
            "75/75 - 2s - loss: 0.0217 - sparse_categorical_accuracy: 0.9949 - val_loss: 0.6651 - val_sparse_categorical_accuracy: 0.8636 - 2s/epoch - 28ms/step\n",
            "Epoch 14/100\n",
            "75/75 - 2s - loss: 0.0155 - sparse_categorical_accuracy: 0.9971 - val_loss: 0.7105 - val_sparse_categorical_accuracy: 0.8670 - 2s/epoch - 24ms/step\n"
          ]
        },
        {
          "output_type": "execute_result",
          "data": {
            "text/plain": [
              "<keras.src.callbacks.History at 0x7a79f14af310>"
            ]
          },
          "metadata": {},
          "execution_count": 12
        }
      ]
    },
    {
      "cell_type": "markdown",
      "source": [
        "# Visualize Word Embeddings"
      ],
      "metadata": {
        "id": "kAtNlTm9Rwf_"
      }
    },
    {
      "cell_type": "code",
      "source": [
        "# Get the embedding layer from the model (i.e. first layer)\n",
        "embedding_layer = model.layers[0]\n",
        "\n",
        "# Get the weights of the embedding layer\n",
        "embedding_weights = embedding_layer.get_weights()[0]\n",
        "\n",
        "# Print the shape. Expected is (vocab_size, embedding_dim)\n",
        "print(embedding_weights.shape)"
      ],
      "metadata": {
        "colab": {
          "base_uri": "https://localhost:8080/"
        },
        "id": "eROQKmFcRvww",
        "outputId": "ec7c184e-2ba9-444f-fae7-6bbb1ad86713"
      },
      "execution_count": 13,
      "outputs": [
        {
          "output_type": "stream",
          "name": "stdout",
          "text": [
            "(10000, 2000)\n"
          ]
        }
      ]
    },
    {
      "cell_type": "code",
      "source": [
        "# Get the index-word dictionary\n",
        "reverse_word_index = tokenizer.index_word"
      ],
      "metadata": {
        "id": "3yR9jXxHRyt8"
      },
      "execution_count": 14,
      "outputs": []
    },
    {
      "cell_type": "code",
      "source": [
        "import io\n",
        "\n",
        "# Open writeable files\n",
        "out_v = io.open('vecs.tsv', 'w', encoding='utf-8')\n",
        "out_m = io.open('meta.tsv', 'w', encoding='utf-8')\n",
        "\n",
        "# Initialize the loop. Start counting at `1` because `0` is just for the padding\n",
        "for word_num in range(1, vocab_size):\n",
        "\n",
        "  # Get the word associated at the current index\n",
        "  word_name = reverse_word_index[word_num]\n",
        "\n",
        "  # Get the embedding weights associated with the current index\n",
        "  word_embedding = embedding_weights[word_num]\n",
        "\n",
        "  # Write the word name\n",
        "  out_m.write(word_name + \"\\n\")\n",
        "\n",
        "  # Write the word embedding\n",
        "  out_v.write('\\t'.join([str(x) for x in word_embedding]) + \"\\n\")\n",
        "\n",
        "# Close the files\n",
        "out_v.close()\n",
        "out_m.close()"
      ],
      "metadata": {
        "id": "1cF_P0s2R1Pj"
      },
      "execution_count": 15,
      "outputs": []
    },
    {
      "cell_type": "code",
      "source": [
        "# Import files utilities in Colab\n",
        "try:\n",
        "  from google.colab import files\n",
        "except ImportError:\n",
        "  pass\n",
        "\n",
        "# Download the files\n",
        "else:\n",
        "  files.download('vecs.tsv')\n",
        "  files.download('meta.tsv')"
      ],
      "metadata": {
        "id": "iqC59dhyR2i2"
      },
      "execution_count": null,
      "outputs": []
    }
  ],
  "metadata": {
    "kernelspec": {
      "display_name": "Python 3",
      "name": "python3"
    },
    "language_info": {
      "codemirror_mode": {
        "name": "ipython",
        "version": 3
      },
      "file_extension": ".py",
      "mimetype": "text/x-python",
      "name": "python",
      "nbconvert_exporter": "python",
      "pygments_lexer": "ipython3",
      "version": "3.12.2"
    },
    "colab": {
      "provenance": [],
      "gpuType": "T4",
      "include_colab_link": true
    },
    "accelerator": "GPU"
  },
  "nbformat": 4,
  "nbformat_minor": 0
}