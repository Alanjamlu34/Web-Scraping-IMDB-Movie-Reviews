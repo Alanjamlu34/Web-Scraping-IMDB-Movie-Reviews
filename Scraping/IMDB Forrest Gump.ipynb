{
 "cells": [
  {
   "cell_type": "code",
   "execution_count": 1,
   "metadata": {},
   "outputs": [],
   "source": [
    "from bs4 import BeautifulSoup\n",
    "import requests\n",
    "import pandas as pd\n",
    "import time"
   ]
  },
  {
   "cell_type": "code",
   "execution_count": 2,
   "metadata": {},
   "outputs": [
    {
     "name": "stdout",
     "output_type": "stream",
     "text": [
      "Dataset saved successfully!\n"
     ]
    }
   ],
   "source": [
    "# Base URL for the reviews\n",
    "base_url = 'https://www.imdb.com/title/tt0109830/reviews/_ajax?ref_=undefined&paginationKey='\n",
    "\n",
    "# Initialize variables\n",
    "dates = []\n",
    "overviews = []\n",
    "stars = []\n",
    "reviews = []\n",
    "pagination_key = ''  # Initialize pagination key as empty\n",
    "\n",
    "while True:\n",
    "    # Construct the URL with the current pagination key\n",
    "    url = base_url + pagination_key\n",
    "    # Fetch the page content\n",
    "    response = requests.get(url)\n",
    "    soup = BeautifulSoup(response.text, 'html.parser')\n",
    "    \n",
    "    # Find all review containers\n",
    "    review_containers = soup.find_all('div', class_='review-container')\n",
    "    \n",
    "    # Extract review details\n",
    "    for container in review_containers:\n",
    "        date = container.find('span', class_='review-date').get_text(strip=True)\n",
    "        overview_element = container.find('a', class_='title')\n",
    "        overview = overview_element.get_text(strip=True) if overview_element else 'N/A'\n",
    "        stars_element = container.find('span', class_='rating-other-user-rating')\n",
    "        stars_text = stars_element.find('span').get_text(strip=True) if stars_element else 'N/A'\n",
    "        review_text = container.find('div', class_='text').get_text(strip=True)\n",
    "\n",
    "        # Add data to lists\n",
    "        dates.append(date)\n",
    "        overviews.append(overview)\n",
    "        stars.append(stars_text)\n",
    "        reviews.append(review_text)\n",
    "    \n",
    "    # Check if there's a \"Load More\" button with pagination key\n",
    "    load_more_data_div = soup.find('div', class_='load-more-data')\n",
    "    if load_more_data_div and 'data-key' in load_more_data_div.attrs:\n",
    "        # Get the pagination key for the next set of reviews\n",
    "        pagination_key = load_more_data_div['data-key']\n",
    "        time.sleep(2)  # Pause to avoid overwhelming the server\n",
    "    else:\n",
    "        break\n",
    "\n",
    "# Create a DataFrame\n",
    "data = {\n",
    "    'Date': dates,\n",
    "    'overview':overviews,\n",
    "    'Stars': stars,\n",
    "    'Review': reviews\n",
    "}\n",
    "df = pd.DataFrame(data)\n",
    "\n",
    "# Save DataFrame to a CSV file\n",
    "df.to_csv('Dataset/ForrestGump_reviews.csv', index=False)\n",
    "\n",
    "print(\"Dataset saved successfully!\")"
   ]
  },
  {
   "cell_type": "code",
   "execution_count": 3,
   "metadata": {},
   "outputs": [
    {
     "data": {
      "text/html": [
       "<div>\n",
       "<style scoped>\n",
       "    .dataframe tbody tr th:only-of-type {\n",
       "        vertical-align: middle;\n",
       "    }\n",
       "\n",
       "    .dataframe tbody tr th {\n",
       "        vertical-align: top;\n",
       "    }\n",
       "\n",
       "    .dataframe thead th {\n",
       "        text-align: right;\n",
       "    }\n",
       "</style>\n",
       "<table border=\"1\" class=\"dataframe\">\n",
       "  <thead>\n",
       "    <tr style=\"text-align: right;\">\n",
       "      <th></th>\n",
       "      <th>Date</th>\n",
       "      <th>overview</th>\n",
       "      <th>Stars</th>\n",
       "      <th>Review</th>\n",
       "    </tr>\n",
       "  </thead>\n",
       "  <tbody>\n",
       "    <tr>\n",
       "      <th>3181</th>\n",
       "      <td>15 November 2021</td>\n",
       "      <td>wonderful</td>\n",
       "      <td>N/A</td>\n",
       "      <td>What a story , with hopes and with dreams of a...</td>\n",
       "    </tr>\n",
       "    <tr>\n",
       "      <th>3182</th>\n",
       "      <td>9 May 2003</td>\n",
       "      <td>Best movie</td>\n",
       "      <td>N/A</td>\n",
       "      <td>I saw Forrest Gump for film study recently whi...</td>\n",
       "    </tr>\n",
       "    <tr>\n",
       "      <th>3183</th>\n",
       "      <td>9 January 2000</td>\n",
       "      <td>Tom Hanks deserved the Oscar!</td>\n",
       "      <td>N/A</td>\n",
       "      <td>I really enjoyed this movie.  It made me laugh...</td>\n",
       "    </tr>\n",
       "    <tr>\n",
       "      <th>3184</th>\n",
       "      <td>23 May 2024</td>\n",
       "      <td>Another Robert Zemeckes Classic</td>\n",
       "      <td>8</td>\n",
       "      <td>Robert Zemekes has done such a VERY good movie...</td>\n",
       "    </tr>\n",
       "    <tr>\n",
       "      <th>3185</th>\n",
       "      <td>23 May 2024</td>\n",
       "      <td>A heartwarming journey through life</td>\n",
       "      <td>8</td>\n",
       "      <td>\"Forrest Gump,\" directed by Robert Zemeckis, i...</td>\n",
       "    </tr>\n",
       "  </tbody>\n",
       "</table>\n",
       "</div>"
      ],
      "text/plain": [
       "                  Date                             overview Stars  \\\n",
       "3181  15 November 2021                            wonderful   N/A   \n",
       "3182        9 May 2003                           Best movie   N/A   \n",
       "3183    9 January 2000        Tom Hanks deserved the Oscar!   N/A   \n",
       "3184       23 May 2024      Another Robert Zemeckes Classic     8   \n",
       "3185       23 May 2024  A heartwarming journey through life     8   \n",
       "\n",
       "                                                 Review  \n",
       "3181  What a story , with hopes and with dreams of a...  \n",
       "3182  I saw Forrest Gump for film study recently whi...  \n",
       "3183  I really enjoyed this movie.  It made me laugh...  \n",
       "3184  Robert Zemekes has done such a VERY good movie...  \n",
       "3185  \"Forrest Gump,\" directed by Robert Zemeckis, i...  "
      ]
     },
     "execution_count": 3,
     "metadata": {},
     "output_type": "execute_result"
    }
   ],
   "source": [
    "df.tail()"
   ]
  }
 ],
 "metadata": {
  "kernelspec": {
   "display_name": "Python 3",
   "language": "python",
   "name": "python3"
  },
  "language_info": {
   "codemirror_mode": {
    "name": "ipython",
    "version": 3
   },
   "file_extension": ".py",
   "mimetype": "text/x-python",
   "name": "python",
   "nbconvert_exporter": "python",
   "pygments_lexer": "ipython3",
   "version": "3.12.2"
  }
 },
 "nbformat": 4,
 "nbformat_minor": 2
}
