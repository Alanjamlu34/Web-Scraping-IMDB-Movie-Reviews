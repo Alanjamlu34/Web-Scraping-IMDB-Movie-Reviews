{
  "cells": [
    {
      "cell_type": "markdown",
      "metadata": {
        "id": "view-in-github",
        "colab_type": "text"
      },
      "source": [
        "<a href=\"https://colab.research.google.com/github/Alanjamlu34/Web-Scraping-IMDB-Movie-Reviews/blob/main/Analisis_Review.ipynb\" target=\"_parent\"><img src=\"https://colab.research.google.com/assets/colab-badge.svg\" alt=\"Open In Colab\"/></a>"
      ]
    },
    {
      "cell_type": "markdown",
      "source": [
        "# Import Library"
      ],
      "metadata": {
        "id": "--i6yXmcFyHd"
      }
    },
    {
      "cell_type": "code",
      "source": [
        "import numpy as np\n",
        "import pandas as pd\n",
        "from sklearn.model_selection import train_test_split\n",
        "from tensorflow.keras.preprocessing.text import Tokenizer\n",
        "from tensorflow.keras.preprocessing.sequence import pad_sequences\n",
        "import tensorflow as tf"
      ],
      "metadata": {
        "id": "6-67NDAgF0HK"
      },
      "execution_count": 1,
      "outputs": []
    },
    {
      "cell_type": "markdown",
      "metadata": {
        "id": "0Pe7K3vcE_jR"
      },
      "source": [
        "# Read Dataset"
      ]
    },
    {
      "cell_type": "code",
      "source": [
        "# Load the data from the specified path\n",
        "data_path = \"/content/data.csv\"\n",
        "df = pd.read_csv(data_path)\n"
      ],
      "metadata": {
        "id": "7Bd1DbyPOkmi"
      },
      "execution_count": 2,
      "outputs": []
    },
    {
      "cell_type": "markdown",
      "source": [
        "# Maping data"
      ],
      "metadata": {
        "id": "ToiV3B3bGCx8"
      }
    },
    {
      "cell_type": "code",
      "source": [
        "# Mapping dictionary for Stars column\n",
        "stars_mapping = {\n",
        "    0: 'buruk', 1: 'buruk', 2: 'buruk', 3: 'buruk',\n",
        "    4: 'netral', 5: 'netral', 6: 'netral', 7: 'netral',\n",
        "    8: 'bagus', 9: 'bagus', 10: 'bagus'\n",
        "}\n",
        "\n",
        "# Map the Stars column to categorical labels\n",
        "df['Label'] = df['Stars'].map(stars_mapping)"
      ],
      "metadata": {
        "id": "12zDa91GGEw1"
      },
      "execution_count": 3,
      "outputs": []
    },
    {
      "cell_type": "markdown",
      "source": [
        "# Split Dataset"
      ],
      "metadata": {
        "id": "bJ2KlG2FGFyY"
      }
    },
    {
      "cell_type": "code",
      "source": [
        "\n",
        "# Split the data into training and testing sets\n",
        "train_df, test_df = train_test_split(df, test_size=0.2, random_state=42)\n",
        "\n",
        "# Initialize sentences and labels lists for training\n",
        "training_sentences = train_df['Review'].tolist()\n",
        "training_labels = train_df['Label'].tolist()\n",
        "\n",
        "# Initialize sentences and labels lists for testing\n",
        "testing_sentences = test_df['Review'].tolist()\n",
        "testing_labels = test_df['Label'].tolist()\n",
        "\n",
        "# Convert labels lists to numpy arrays\n",
        "label_mapping = {'buruk': 0, 'netral': 1, 'bagus': 2}\n",
        "training_labels_final = np.array([label_mapping[label] for label in training_labels])\n",
        "testing_labels_final = np.array([label_mapping[label] for label in testing_labels])"
      ],
      "metadata": {
        "id": "9kJ-5UG8F_nC"
      },
      "execution_count": 4,
      "outputs": []
    },
    {
      "cell_type": "markdown",
      "source": [
        "# Remove Stopword"
      ],
      "metadata": {
        "id": "PQlf4UzBGNNG"
      }
    },
    {
      "cell_type": "code",
      "source": [
        "# Function to remove stopwords\n",
        "def remove_stopwords(sentence):\n",
        "    stopwords = [\"a\", \"about\", \"above\", \"after\", \"again\", \"against\", \"all\", \"am\", \"an\", \"and\", \"any\", \"are\", \"as\", \"at\",\n",
        "                 \"be\", \"because\", \"been\", \"before\", \"being\", \"below\", \"between\", \"both\", \"but\", \"by\", \"could\", \"did\",\n",
        "                 \"do\", \"does\", \"doing\", \"down\", \"during\", \"each\", \"few\", \"for\", \"from\", \"further\", \"had\", \"has\", \"have\",\n",
        "                 \"having\", \"he\", \"he'd\", \"he'll\", \"he's\", \"her\", \"here\", \"here's\", \"hers\", \"herself\", \"him\", \"himself\",\n",
        "                 \"his\", \"how\", \"how's\", \"i\", \"i'd\", \"i'll\", \"i'm\", \"i've\", \"if\", \"in\", \"into\", \"is\", \"it\", \"it's\",\n",
        "                 \"its\", \"itself\", \"let's\", \"me\", \"more\", \"most\", \"my\", \"myself\", \"nor\", \"of\", \"on\", \"once\", \"only\",\n",
        "                 \"or\", \"other\", \"ought\", \"our\", \"ours\", \"ourselves\", \"out\", \"over\", \"own\", \"same\", \"she\", \"she'd\",\n",
        "                 \"she'll\", \"she's\", \"should\", \"so\", \"some\", \"such\", \"than\", \"that\", \"that's\", \"the\", \"their\", \"theirs\",\n",
        "                 \"them\", \"themselves\", \"then\", \"there\", \"there's\", \"these\", \"they\", \"they'd\", \"they'll\", \"they're\",\n",
        "                 \"they've\", \"this\", \"those\", \"through\", \"to\", \"too\", \"under\", \"until\", \"up\", \"very\", \"was\", \"we\",\n",
        "                 \"we'd\", \"we'll\", \"we're\", \"we've\", \"were\", \"what\", \"what's\", \"when\", \"when's\", \"where\", \"where's\",\n",
        "                 \"which\", \"while\", \"who\", \"who's\", \"whom\", \"why\", \"why's\", \"with\", \"would\", \"you\", \"you'd\", \"you'll\",\n",
        "                 \"you're\", \"you've\", \"your\", \"yours\", \"yourself\", \"yourselves\"]\n",
        "\n",
        "    sentence = sentence.lower()\n",
        "    words = sentence.split()\n",
        "    no_stopwords = [w for w in words if w not in stopwords]\n",
        "    return \" \".join(no_stopwords)\n",
        "\n",
        "# Clean the sentences by removing stopwords\n",
        "training_sentences = [remove_stopwords(sentence) for sentence in training_sentences]\n",
        "testing_sentences = [remove_stopwords(sentence) for sentence in testing_sentences]"
      ],
      "metadata": {
        "id": "XPpITG6GGSCu"
      },
      "execution_count": 5,
      "outputs": []
    },
    {
      "cell_type": "markdown",
      "source": [
        "# Set Parameter"
      ],
      "metadata": {
        "id": "6hmm8ZMRGTW0"
      }
    },
    {
      "cell_type": "code",
      "source": [
        "# Parameters\n",
        "vocab_size = 10000\n",
        "max_length = 100\n",
        "embedding_dim = 2000\n",
        "trunc_type = 'post'\n",
        "oov_tok = \"<OOV>\""
      ],
      "metadata": {
        "id": "Lx5TGOjmGapY"
      },
      "execution_count": 6,
      "outputs": []
    },
    {
      "cell_type": "markdown",
      "source": [
        "# Tokenize and Padding"
      ],
      "metadata": {
        "id": "PlBDeRNdGcKg"
      }
    },
    {
      "cell_type": "code",
      "source": [
        "# Clear previous models and sessions\n",
        "tf.keras.backend.clear_session()"
      ],
      "metadata": {
        "id": "CM5HuVCiLkwH"
      },
      "execution_count": 7,
      "outputs": []
    },
    {
      "cell_type": "code",
      "source": [
        "# Initialize the Tokenizer class\n",
        "tokenizer = Tokenizer(num_words=vocab_size, oov_token=oov_tok)\n",
        "\n",
        "# Generate the word index dictionary for the training sentences\n",
        "tokenizer.fit_on_texts(training_sentences)\n",
        "word_index = tokenizer.word_index\n",
        "\n",
        "# Generate and pad the training sequences\n",
        "train_sequences = tokenizer.texts_to_sequences(training_sentences)\n",
        "train_padded = pad_sequences(train_sequences, maxlen=max_length, truncating=trunc_type)\n",
        "\n",
        "# Generate and pad the test sequences\n",
        "test_sequences = tokenizer.texts_to_sequences(testing_sentences)\n",
        "test_padded = pad_sequences(test_sequences, maxlen=max_length, truncating=trunc_type)"
      ],
      "metadata": {
        "id": "R_H6HImMGh3w"
      },
      "execution_count": 8,
      "outputs": []
    },
    {
      "cell_type": "markdown",
      "source": [
        "# Build Model"
      ],
      "metadata": {
        "id": "xpKy4oL5Gjxl"
      }
    },
    {
      "cell_type": "code",
      "source": [
        "# Build the model\n",
        "model = tf.keras.Sequential([\n",
        "    tf.keras.layers.Embedding(vocab_size, embedding_dim, input_length=max_length),\n",
        "    tf.keras.layers.GlobalAveragePooling1D(),\n",
        "    tf.keras.layers.Dense(6, activation='relu'),\n",
        "    tf.keras.layers.Dense(3, activation='softmax')  # 3 neurons for 'buruk', 'netral', 'bagus'\n",
        "])\n"
      ],
      "metadata": {
        "id": "6GVIp0RzF8yx"
      },
      "execution_count": 9,
      "outputs": []
    },
    {
      "cell_type": "markdown",
      "source": [
        "# Compile and Train Model"
      ],
      "metadata": {
        "id": "qF821Q4VGqMi"
      }
    },
    {
      "cell_type": "code",
      "source": [
        "from tensorflow.keras.callbacks import EarlyStopping\n",
        "early_stop = EarlyStopping(monitor='val_loss', patience=10)"
      ],
      "metadata": {
        "id": "Qxsge3RQHpMi"
      },
      "execution_count": 10,
      "outputs": []
    },
    {
      "cell_type": "code",
      "source": [
        "# Setup the training parameters\n",
        "model.compile(loss='sparse_categorical_crossentropy',\n",
        "              optimizer='adam',\n",
        "              metrics=['sparse_categorical_accuracy'])\n",
        "\n",
        "# Print the model summary\n",
        "model.summary()"
      ],
      "metadata": {
        "id": "j1AVCGZbGpyW",
        "outputId": "ff06fe6b-9428-4a4a-c60c-0e73484b8ec3",
        "colab": {
          "base_uri": "https://localhost:8080/"
        }
      },
      "execution_count": 11,
      "outputs": [
        {
          "output_type": "stream",
          "name": "stdout",
          "text": [
            "Model: \"sequential\"\n",
            "_________________________________________________________________\n",
            " Layer (type)                Output Shape              Param #   \n",
            "=================================================================\n",
            " embedding (Embedding)       (None, 100, 2000)         20000000  \n",
            "                                                                 \n",
            " global_average_pooling1d (  (None, 2000)              0         \n",
            " GlobalAveragePooling1D)                                         \n",
            "                                                                 \n",
            " dense (Dense)               (None, 6)                 12006     \n",
            "                                                                 \n",
            " dense_1 (Dense)             (None, 3)                 21        \n",
            "                                                                 \n",
            "=================================================================\n",
            "Total params: 20012027 (76.34 MB)\n",
            "Trainable params: 20012027 (76.34 MB)\n",
            "Non-trainable params: 0 (0.00 Byte)\n",
            "_________________________________________________________________\n"
          ]
        }
      ]
    },
    {
      "cell_type": "code",
      "source": [
        "# Train the model\n",
        "model.fit(train_padded, training_labels_final, epochs=100, validation_data=(test_padded, testing_labels_final), verbose=2, callbacks = [early_stop])"
      ],
      "metadata": {
        "id": "9mKbkERsI7Xi",
        "outputId": "77feff84-9540-478a-892e-e3fab36a0829",
        "colab": {
          "base_uri": "https://localhost:8080/"
        }
      },
      "execution_count": 12,
      "outputs": [
        {
          "output_type": "stream",
          "name": "stdout",
          "text": [
            "Epoch 1/100\n",
            "75/75 - 21s - loss: 0.6087 - sparse_categorical_accuracy: 0.8333 - val_loss: 0.4422 - val_sparse_categorical_accuracy: 0.8737 - 21s/epoch - 274ms/step\n",
            "Epoch 2/100\n",
            "75/75 - 10s - loss: 0.4105 - sparse_categorical_accuracy: 0.8708 - val_loss: 0.4109 - val_sparse_categorical_accuracy: 0.8737 - 10s/epoch - 127ms/step\n",
            "Epoch 3/100\n",
            "75/75 - 10s - loss: 0.3482 - sparse_categorical_accuracy: 0.8721 - val_loss: 0.3770 - val_sparse_categorical_accuracy: 0.8704 - 10s/epoch - 135ms/step\n",
            "Epoch 4/100\n",
            "75/75 - 6s - loss: 0.2773 - sparse_categorical_accuracy: 0.8918 - val_loss: 0.3640 - val_sparse_categorical_accuracy: 0.8704 - 6s/epoch - 80ms/step\n",
            "Epoch 5/100\n",
            "75/75 - 6s - loss: 0.2023 - sparse_categorical_accuracy: 0.9205 - val_loss: 0.3732 - val_sparse_categorical_accuracy: 0.8636 - 6s/epoch - 81ms/step\n",
            "Epoch 6/100\n",
            "75/75 - 4s - loss: 0.1389 - sparse_categorical_accuracy: 0.9550 - val_loss: 0.3985 - val_sparse_categorical_accuracy: 0.8603 - 4s/epoch - 59ms/step\n",
            "Epoch 7/100\n",
            "75/75 - 4s - loss: 0.0956 - sparse_categorical_accuracy: 0.9773 - val_loss: 0.4348 - val_sparse_categorical_accuracy: 0.8687 - 4s/epoch - 58ms/step\n",
            "Epoch 8/100\n",
            "75/75 - 4s - loss: 0.0674 - sparse_categorical_accuracy: 0.9836 - val_loss: 0.4688 - val_sparse_categorical_accuracy: 0.8687 - 4s/epoch - 49ms/step\n",
            "Epoch 9/100\n",
            "75/75 - 2s - loss: 0.0472 - sparse_categorical_accuracy: 0.9895 - val_loss: 0.4911 - val_sparse_categorical_accuracy: 0.8704 - 2s/epoch - 23ms/step\n",
            "Epoch 10/100\n",
            "75/75 - 2s - loss: 0.0364 - sparse_categorical_accuracy: 0.9903 - val_loss: 0.4952 - val_sparse_categorical_accuracy: 0.8805 - 2s/epoch - 23ms/step\n",
            "Epoch 11/100\n",
            "75/75 - 2s - loss: 0.0285 - sparse_categorical_accuracy: 0.9907 - val_loss: 0.5276 - val_sparse_categorical_accuracy: 0.8704 - 2s/epoch - 27ms/step\n",
            "Epoch 12/100\n",
            "75/75 - 2s - loss: 0.0237 - sparse_categorical_accuracy: 0.9933 - val_loss: 0.5958 - val_sparse_categorical_accuracy: 0.8704 - 2s/epoch - 26ms/step\n",
            "Epoch 13/100\n",
            "75/75 - 3s - loss: 0.0204 - sparse_categorical_accuracy: 0.9949 - val_loss: 0.5706 - val_sparse_categorical_accuracy: 0.8721 - 3s/epoch - 42ms/step\n",
            "Epoch 14/100\n",
            "75/75 - 3s - loss: 0.0161 - sparse_categorical_accuracy: 0.9962 - val_loss: 0.6188 - val_sparse_categorical_accuracy: 0.8737 - 3s/epoch - 42ms/step\n"
          ]
        },
        {
          "output_type": "execute_result",
          "data": {
            "text/plain": [
              "<keras.src.callbacks.History at 0x7f92fb01c490>"
            ]
          },
          "metadata": {},
          "execution_count": 12
        }
      ]
    },
    {
      "cell_type": "markdown",
      "source": [
        "# Visualize Word Embeddings"
      ],
      "metadata": {
        "id": "kAtNlTm9Rwf_"
      }
    },
    {
      "cell_type": "code",
      "source": [
        "# Get the embedding layer from the model (i.e. first layer)\n",
        "embedding_layer = model.layers[0]\n",
        "\n",
        "# Get the weights of the embedding layer\n",
        "embedding_weights = embedding_layer.get_weights()[0]\n",
        "\n",
        "# Print the shape. Expected is (vocab_size, embedding_dim)\n",
        "print(embedding_weights.shape)"
      ],
      "metadata": {
        "colab": {
          "base_uri": "https://localhost:8080/"
        },
        "id": "eROQKmFcRvww",
        "outputId": "d5e00c24-9ffc-4f70-e3d7-9ef421ab5969"
      },
      "execution_count": 13,
      "outputs": [
        {
          "output_type": "stream",
          "name": "stdout",
          "text": [
            "(10000, 2000)\n"
          ]
        }
      ]
    },
    {
      "cell_type": "code",
      "source": [
        "# Get the index-word dictionary\n",
        "reverse_word_index = tokenizer.index_word"
      ],
      "metadata": {
        "id": "3yR9jXxHRyt8"
      },
      "execution_count": 14,
      "outputs": []
    },
    {
      "cell_type": "code",
      "source": [
        "import io\n",
        "\n",
        "# Open writeable files\n",
        "out_v = io.open('vecs.tsv', 'w', encoding='utf-8')\n",
        "out_m = io.open('meta.tsv', 'w', encoding='utf-8')\n",
        "\n",
        "# Initialize the loop. Start counting at `1` because `0` is just for the padding\n",
        "for word_num in range(1, vocab_size):\n",
        "\n",
        "  # Get the word associated at the current index\n",
        "  word_name = reverse_word_index[word_num]\n",
        "\n",
        "  # Get the embedding weights associated with the current index\n",
        "  word_embedding = embedding_weights[word_num]\n",
        "\n",
        "  # Write the word name\n",
        "  out_m.write(word_name + \"\\n\")\n",
        "\n",
        "  # Write the word embedding\n",
        "  out_v.write('\\t'.join([str(x) for x in word_embedding]) + \"\\n\")\n",
        "\n",
        "# Close the files\n",
        "out_v.close()\n",
        "out_m.close()"
      ],
      "metadata": {
        "id": "1cF_P0s2R1Pj"
      },
      "execution_count": 15,
      "outputs": []
    },
    {
      "cell_type": "code",
      "source": [
        "# Import files utilities in Colab\n",
        "try:\n",
        "  from google.colab import files\n",
        "except ImportError:\n",
        "  pass\n",
        "\n",
        "# Download the files\n",
        "else:\n",
        "  files.download('vecs.tsv')\n",
        "  files.download('meta.tsv')"
      ],
      "metadata": {
        "colab": {
          "base_uri": "https://localhost:8080/",
          "height": 17
        },
        "id": "iqC59dhyR2i2",
        "outputId": "133b681b-2953-4eb9-cdd1-0ed6c5d3e645"
      },
      "execution_count": 16,
      "outputs": [
        {
          "output_type": "display_data",
          "data": {
            "text/plain": [
              "<IPython.core.display.Javascript object>"
            ],
            "application/javascript": [
              "\n",
              "    async function download(id, filename, size) {\n",
              "      if (!google.colab.kernel.accessAllowed) {\n",
              "        return;\n",
              "      }\n",
              "      const div = document.createElement('div');\n",
              "      const label = document.createElement('label');\n",
              "      label.textContent = `Downloading \"${filename}\": `;\n",
              "      div.appendChild(label);\n",
              "      const progress = document.createElement('progress');\n",
              "      progress.max = size;\n",
              "      div.appendChild(progress);\n",
              "      document.body.appendChild(div);\n",
              "\n",
              "      const buffers = [];\n",
              "      let downloaded = 0;\n",
              "\n",
              "      const channel = await google.colab.kernel.comms.open(id);\n",
              "      // Send a message to notify the kernel that we're ready.\n",
              "      channel.send({})\n",
              "\n",
              "      for await (const message of channel.messages) {\n",
              "        // Send a message to notify the kernel that we're ready.\n",
              "        channel.send({})\n",
              "        if (message.buffers) {\n",
              "          for (const buffer of message.buffers) {\n",
              "            buffers.push(buffer);\n",
              "            downloaded += buffer.byteLength;\n",
              "            progress.value = downloaded;\n",
              "          }\n",
              "        }\n",
              "      }\n",
              "      const blob = new Blob(buffers, {type: 'application/binary'});\n",
              "      const a = document.createElement('a');\n",
              "      a.href = window.URL.createObjectURL(blob);\n",
              "      a.download = filename;\n",
              "      div.appendChild(a);\n",
              "      a.click();\n",
              "      div.remove();\n",
              "    }\n",
              "  "
            ]
          },
          "metadata": {}
        },
        {
          "output_type": "display_data",
          "data": {
            "text/plain": [
              "<IPython.core.display.Javascript object>"
            ],
            "application/javascript": [
              "download(\"download_751e60a8-508e-4643-b928-65b8ae7c772d\", \"vecs.tsv\", 244476017)"
            ]
          },
          "metadata": {}
        },
        {
          "output_type": "display_data",
          "data": {
            "text/plain": [
              "<IPython.core.display.Javascript object>"
            ],
            "application/javascript": [
              "\n",
              "    async function download(id, filename, size) {\n",
              "      if (!google.colab.kernel.accessAllowed) {\n",
              "        return;\n",
              "      }\n",
              "      const div = document.createElement('div');\n",
              "      const label = document.createElement('label');\n",
              "      label.textContent = `Downloading \"${filename}\": `;\n",
              "      div.appendChild(label);\n",
              "      const progress = document.createElement('progress');\n",
              "      progress.max = size;\n",
              "      div.appendChild(progress);\n",
              "      document.body.appendChild(div);\n",
              "\n",
              "      const buffers = [];\n",
              "      let downloaded = 0;\n",
              "\n",
              "      const channel = await google.colab.kernel.comms.open(id);\n",
              "      // Send a message to notify the kernel that we're ready.\n",
              "      channel.send({})\n",
              "\n",
              "      for await (const message of channel.messages) {\n",
              "        // Send a message to notify the kernel that we're ready.\n",
              "        channel.send({})\n",
              "        if (message.buffers) {\n",
              "          for (const buffer of message.buffers) {\n",
              "            buffers.push(buffer);\n",
              "            downloaded += buffer.byteLength;\n",
              "            progress.value = downloaded;\n",
              "          }\n",
              "        }\n",
              "      }\n",
              "      const blob = new Blob(buffers, {type: 'application/binary'});\n",
              "      const a = document.createElement('a');\n",
              "      a.href = window.URL.createObjectURL(blob);\n",
              "      a.download = filename;\n",
              "      div.appendChild(a);\n",
              "      a.click();\n",
              "      div.remove();\n",
              "    }\n",
              "  "
            ]
          },
          "metadata": {}
        },
        {
          "output_type": "display_data",
          "data": {
            "text/plain": [
              "<IPython.core.display.Javascript object>"
            ],
            "application/javascript": [
              "download(\"download_e8d71809-38aa-4ab9-aa2d-46142cff1a58\", \"meta.tsv\", 81297)"
            ]
          },
          "metadata": {}
        }
      ]
    }
  ],
  "metadata": {
    "kernelspec": {
      "display_name": "Python 3",
      "name": "python3"
    },
    "language_info": {
      "codemirror_mode": {
        "name": "ipython",
        "version": 3
      },
      "file_extension": ".py",
      "mimetype": "text/x-python",
      "name": "python",
      "nbconvert_exporter": "python",
      "pygments_lexer": "ipython3",
      "version": "3.12.2"
    },
    "colab": {
      "provenance": [],
      "gpuType": "T4",
      "include_colab_link": true
    },
    "accelerator": "GPU"
  },
  "nbformat": 4,
  "nbformat_minor": 0
}